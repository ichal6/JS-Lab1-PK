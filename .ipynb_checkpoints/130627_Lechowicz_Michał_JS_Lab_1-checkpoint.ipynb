{
 "cells": [
  {
   "cell_type": "markdown",
   "metadata": {
    "deletable": false,
    "editable": false,
    "nbgrader": {
     "cell_type": "markdown",
     "checksum": "f47b80ecdd491d5e5bbc9ffb30a83153",
     "grade": false,
     "grade_id": "cell-4b34e804a6520a5c",
     "locked": true,
     "schema_version": 3,
     "solution": false
    }
   },
   "source": [
    "# Języki symboliczne - rok akademicki 2021/2022\n",
    "\n",
    "Przed rozpoczęciem pracy z notatnikiem zmień jego nazwę zgodnie z wzorem: `NrAlbumu_Nazwisko_Imie_PoprzedniaNazwa`\n",
    "\n",
    "Przed wysłaniem notatnika upewnij się, że rozwiązałeś wszystkie zadania/ćwiczenia, w szczególności, że uzupełniłeś wszystkie pola `YOUR CODE HERE` oraz `YOUR ANSWER HERE`."
   ]
  },
  {
   "cell_type": "markdown",
   "metadata": {
    "deletable": false,
    "editable": false,
    "nbgrader": {
     "cell_type": "markdown",
     "checksum": "b04c3a39d3d2468f5bb6f0a1b523021c",
     "grade": false,
     "grade_id": "cell-b21531a0b0d3d259",
     "locked": true,
     "schema_version": 3,
     "solution": false
    }
   },
   "source": [
    "# Temat_1a: \n",
    "## Wprowadzenie do środowiska Jupyter. Typy liczbowe. Praca z tekstem. Instrukcje sterujące. Pętle.\n",
    "Zapoznaj się z treścią niniejszego notatnika czytając i wykonując go komórka po komórce. Wykonaj napotkane zadania/ćwiczenia.\n",
    "\n",
    "### Informacje wstępne\n",
    "#### Instalacja Windows\n",
    "Na zajęciach korzystać będziemy z Pythona w wersji 3.8 z dystrybucji Anaconda. W salach komputerowych Anaconda została już zainstalowana. \n",
    "Sposób instalacji patrz: \"Instrukcja konfiguracji środowiska\" zawarta w Informacjach Ogólnych kursu.\n",
    "\n",
    "Podczas zajęć pracujemy z wykorzystaniem narzędzia `Jupyter Notebook` (dostępnego w Start -> Anaconda -> Jupyter Notebook). Jest to interaktywna konsola Pythona (pracująca w oparciu o przeglądarkę) w postaci notebook-a, czyli taki plik jak właśnie przeglądasz, więcej o Jupyter na http://jupyter.org/.\n",
    "\n",
    "Stąd pobierzesz dystrybucję Anacondy: https://www.anaconda.com/products/individual\n",
    "\n",
    "Obsługa notebook-ów Jupyter jest możliwa m.in. w środowisku developerskim `Spyder`.\n",
    "\n",
    "Tu pokazano jak zainstalować obsługę notebook-ów dla środowiska `Spyder`: https://anaconda.org/conda-forge/spyder-notebook\n",
    "\n",
    "Dokumentacja Python 3 https://docs.python.org/3/.\n",
    "\n",
    "### Jupyter Notebook\n",
    "Najłatwiej uruchomić Jupyter Notebook klikając w Start -> Anaconda -> Jupyter Notebook, jednak lepiej uruchomić konsolę `cmd`, ustawić się w katalogu (należy go wcześniej utworzyć), w którym przechowywane będą materiały z zajęć komendą \n",
    "```\n",
    "cd sciezka\\do\\katalogu\n",
    "```\n",
    "a następnie uruchomić Jupyter Notebook komendą\n",
    "```\n",
    "jupyter notebook\n",
    "```\n",
    "Tak procedura spowoduje, że Jupyter uruchomi się w przeglądarce i odrazu ustawi jako katalog roboczy folder który sobie stworzyliśmy.\n",
    "\n",
    "Czasami przy pierwszym uruchomieniu w konsoli pojawia się link z tokenem, który należy skopiować i wkleić do przeglądarki www.\n",
    "\n",
    "### Zaczynamy\n",
    "### Komentarze w kodzie"
   ]
  },
  {
   "cell_type": "code",
   "execution_count": 1,
   "metadata": {},
   "outputs": [],
   "source": [
    "# to jest komentarz jednolinijkowy, interpreter pomija linie zaczynające się od '#'\n",
    "# Wykonaj komórkę (Shift+Enter) i zobacz że nic się nie wykona"
   ]
  },
  {
   "cell_type": "code",
   "execution_count": 2,
   "metadata": {},
   "outputs": [
    {
     "data": {
      "text/plain": [
       "'\\nTo jest komentarz wielolinijkowy, wszystko pomiędzy trzema znakami cudzysłowia (alternatywnie trzema apostrofami)\\ntraktowane jest jako łańcuch znaków. Jeśli nie zostanie on przypisany do żadnej zmiennej to będzie traktowany jako \\nkomentarz. Często taki sposób wykorzystywany jest do dokumentowania kodu.\\n'"
      ]
     },
     "execution_count": 2,
     "metadata": {},
     "output_type": "execute_result"
    }
   ],
   "source": [
    "\"\"\"\n",
    "To jest komentarz wielolinijkowy, wszystko pomiędzy trzema znakami cudzysłowia (alternatywnie trzema apostrofami)\n",
    "traktowane jest jako łańcuch znaków. Jeśli nie zostanie on przypisany do żadnej zmiennej to będzie traktowany jako \n",
    "komentarz. Często taki sposób wykorzystywany jest do dokumentowania kodu.\n",
    "\"\"\""
   ]
  },
  {
   "cell_type": "markdown",
   "metadata": {
    "deletable": false,
    "editable": false,
    "nbgrader": {
     "cell_type": "markdown",
     "checksum": "1e878d75d23bf0a17dd9d6dc44d128e3",
     "grade": false,
     "grade_id": "cell-11d15726331efec0",
     "locked": true,
     "schema_version": 3,
     "solution": false
    }
   },
   "source": [
    "### Funkcja `print()`\n",
    "Funkcja `print()` przyjmuje dowolną liczbę argumentów, dowolnego typu (no nie do końca dowolnego) i ma też parę parametrów/opcji, ale o tym innym razem. \n",
    "\n",
    "Funkcja `print` jest tak zwaną funkcją wbudowaną, inne dostępne i czasami przydatne funkcje wbudowane https://docs.python.org/3/library/functions.html."
   ]
  },
  {
   "cell_type": "code",
   "execution_count": 3,
   "metadata": {},
   "outputs": [
    {
     "name": "stdout",
     "output_type": "stream",
     "text": [
      "Hello\n",
      "Hello 1 3 [1, 3] (2+4j)\n",
      "Hello;1;3;[1, 3];(2+4j):"
     ]
    }
   ],
   "source": [
    "print('Hello')\n",
    "print('Hello',1,3,[1,3],2+4j)\n",
    "print('Hello',1,3,[1,3],2+4j, sep=';',end=':')"
   ]
  },
  {
   "cell_type": "markdown",
   "metadata": {
    "deletable": false,
    "editable": false,
    "nbgrader": {
     "cell_type": "markdown",
     "checksum": "64fb6a4a0ba1f3b74b38d6fc0096f7a1",
     "grade": false,
     "grade_id": "cell-783d71e00a052b6b",
     "locked": true,
     "schema_version": 3,
     "solution": false
    }
   },
   "source": [
    "### Podstawowe typy danych\n",
    "Python jest językiem dynamicznie typowanym, to znaczy, że nie ma potrzeby jawnego określania typu danej zmiennej, interpreter zrobi to za nas sam. Co więcej Python jest językiem w pełni obiektowy, w którym również zmienne są obiektami.\n",
    "#### Typ `int` (liczby całkowite)"
   ]
  },
  {
   "cell_type": "code",
   "execution_count": 4,
   "metadata": {},
   "outputs": [
    {
     "name": "stdout",
     "output_type": "stream",
     "text": [
      "2\n"
     ]
    },
    {
     "data": {
      "text/plain": [
       "int"
      ]
     },
     "execution_count": 4,
     "metadata": {},
     "output_type": "execute_result"
    }
   ],
   "source": [
    "a = 2    # przypisujemy zmiennej a liczbę całkowitą 2\n",
    "print(a) # wydruk zmiennej a\n",
    "type(a)  # wbudowana funkcja type() zwraca typ danego obiektu"
   ]
  },
  {
   "cell_type": "markdown",
   "metadata": {
    "deletable": false,
    "editable": false,
    "nbgrader": {
     "cell_type": "markdown",
     "checksum": "502b8d3e88255d1f2dbf2e7aa2d3b28f",
     "grade": false,
     "grade_id": "cell-13bca2b2ca90a1b8",
     "locked": true,
     "schema_version": 3,
     "solution": false
    }
   },
   "source": [
    "Przykładowe metody obiektu `int`. Wciskając po napisaniu kropki `Tab` wyświetlone zostaną dostępne pola i metody danego obiektu."
   ]
  },
  {
   "cell_type": "code",
   "execution_count": 8,
   "metadata": {},
   "outputs": [
    {
     "data": {
      "text/plain": [
       "2"
      ]
     },
     "execution_count": 8,
     "metadata": {},
     "output_type": "execute_result"
    }
   ],
   "source": [
    "a.bit_length()"
   ]
  },
  {
   "cell_type": "markdown",
   "metadata": {
    "deletable": false,
    "editable": false,
    "nbgrader": {
     "cell_type": "markdown",
     "checksum": "3e7096fa26337c3bdd15745c81a1f1ec",
     "grade": false,
     "grade_id": "cell-c415c9d17d13ce89",
     "locked": true,
     "schema_version": 3,
     "solution": false
    }
   },
   "source": [
    "#### Typ `float` (liczba zmiennoprzecinkowa)"
   ]
  },
  {
   "cell_type": "code",
   "execution_count": 9,
   "metadata": {},
   "outputs": [
    {
     "name": "stdout",
     "output_type": "stream",
     "text": [
      "2.5\n"
     ]
    },
    {
     "data": {
      "text/plain": [
       "float"
      ]
     },
     "execution_count": 9,
     "metadata": {},
     "output_type": "execute_result"
    }
   ],
   "source": [
    "b = 2.5\n",
    "print(b)\n",
    "type(b)"
   ]
  },
  {
   "cell_type": "code",
   "execution_count": 13,
   "metadata": {},
   "outputs": [
    {
     "data": {
      "text/plain": [
       "<function float.is_integer()>"
      ]
     },
     "execution_count": 13,
     "metadata": {},
     "output_type": "execute_result"
    }
   ],
   "source": [
    "b.is_integer()"
   ]
  },
  {
   "cell_type": "markdown",
   "metadata": {
    "deletable": false,
    "editable": false,
    "nbgrader": {
     "cell_type": "markdown",
     "checksum": "a09663d1785e20b4c65d6b3038e10b03",
     "grade": false,
     "grade_id": "cell-239baf5303697212",
     "locked": true,
     "schema_version": 3,
     "solution": false
    }
   },
   "source": [
    "#### Typ `complex` (liczba zespolona)"
   ]
  },
  {
   "cell_type": "code",
   "execution_count": 14,
   "metadata": {},
   "outputs": [
    {
     "name": "stdout",
     "output_type": "stream",
     "text": [
      "(2+4j)\n"
     ]
    },
    {
     "data": {
      "text/plain": [
       "complex"
      ]
     },
     "execution_count": 14,
     "metadata": {},
     "output_type": "execute_result"
    }
   ],
   "source": [
    "z = 2+4j # j jednostka urojona, piszemy z prawej strony bez spacji\n",
    "print(z)\n",
    "type(z)"
   ]
  },
  {
   "cell_type": "code",
   "execution_count": 15,
   "metadata": {},
   "outputs": [
    {
     "data": {
      "text/plain": [
       "4.0"
      ]
     },
     "execution_count": 15,
     "metadata": {},
     "output_type": "execute_result"
    }
   ],
   "source": [
    "z.imag"
   ]
  },
  {
   "cell_type": "markdown",
   "metadata": {
    "deletable": false,
    "editable": false,
    "nbgrader": {
     "cell_type": "markdown",
     "checksum": "c280b7d38908b792adb9763d62cb628e",
     "grade": false,
     "grade_id": "cell-2cc0c3c12da24875",
     "locked": true,
     "schema_version": 3,
     "solution": false
    }
   },
   "source": [
    "#### Typ `bool` (prawda, fałsz)"
   ]
  },
  {
   "cell_type": "code",
   "execution_count": 16,
   "metadata": {},
   "outputs": [
    {
     "data": {
      "text/plain": [
       "bool"
      ]
     },
     "execution_count": 16,
     "metadata": {},
     "output_type": "execute_result"
    }
   ],
   "source": [
    "prawda = True\n",
    "falsz = False\n",
    "type(prawda)"
   ]
  },
  {
   "cell_type": "markdown",
   "metadata": {
    "deletable": false,
    "editable": false,
    "nbgrader": {
     "cell_type": "markdown",
     "checksum": "b0cf786528995c64658a867789c7af76",
     "grade": false,
     "grade_id": "cell-437d194315718328",
     "locked": true,
     "schema_version": 3,
     "solution": false
    }
   },
   "source": [
    "#### Typ `tuple` (krotka)\n",
    "Krotka to zestawienie kilku obiektów w jeden obiekt. Mogą to być obiekty różnych typów."
   ]
  },
  {
   "cell_type": "code",
   "execution_count": 17,
   "metadata": {},
   "outputs": [
    {
     "name": "stdout",
     "output_type": "stream",
     "text": [
      "(1, 2, 3, 4)\n",
      "(1, 3.5, 'a', (1, 2, 3, 4))\n",
      "4\n"
     ]
    },
    {
     "data": {
      "text/plain": [
       "tuple"
      ]
     },
     "execution_count": 17,
     "metadata": {},
     "output_type": "execute_result"
    }
   ],
   "source": [
    "a = (1, 2, 3, 4)\n",
    "b = (1, 3.5, 'a', a)\n",
    "print(a)\n",
    "print(b)\n",
    "print(len(a))\n",
    "type(a)"
   ]
  },
  {
   "cell_type": "markdown",
   "metadata": {
    "deletable": false,
    "editable": false,
    "nbgrader": {
     "cell_type": "markdown",
     "checksum": "b2a8ee2396feb8ca8301017fbc3b2d08",
     "grade": false,
     "grade_id": "cell-50a495acc20659da",
     "locked": true,
     "schema_version": 3,
     "solution": false
    }
   },
   "source": [
    "Elementy krotki można rozpakować do pojedynczych zmiennych."
   ]
  },
  {
   "cell_type": "code",
   "execution_count": 18,
   "metadata": {},
   "outputs": [
    {
     "name": "stdout",
     "output_type": "stream",
     "text": [
      "1\n",
      "2.5\n",
      "(1+3j)\n",
      "(1, 2.5, (1+3j))\n"
     ]
    }
   ],
   "source": [
    "# rozpakowywanie krotki\n",
    "a,b,c = (1, 2.5, 1+3j)\n",
    "d = (1, 2.5, 1+3j)\n",
    "print(a)\n",
    "print(b)\n",
    "print(c)\n",
    "print(d)"
   ]
  },
  {
   "cell_type": "markdown",
   "metadata": {
    "deletable": false,
    "editable": false,
    "nbgrader": {
     "cell_type": "markdown",
     "checksum": "6229463d08185c07ee1c011c6b7782bf",
     "grade": false,
     "grade_id": "cell-c43f50a835620f3e",
     "locked": true,
     "schema_version": 3,
     "solution": false
    }
   },
   "source": [
    "Krotka jest obiektem niemodyfikowalnym tzn. nie można przypisać nowego wartości na danej pozycji."
   ]
  },
  {
   "cell_type": "code",
   "execution_count": 19,
   "metadata": {},
   "outputs": [
    {
     "name": "stdout",
     "output_type": "stream",
     "text": [
      "1\n"
     ]
    },
    {
     "ename": "TypeError",
     "evalue": "'tuple' object does not support item assignment",
     "output_type": "error",
     "traceback": [
      "\u001b[1;31m---------------------------------------------------------------------------\u001b[0m",
      "\u001b[1;31mTypeError\u001b[0m                                 Traceback (most recent call last)",
      "\u001b[1;32m<ipython-input-19-68ca2ae0cfb2>\u001b[0m in \u001b[0;36m<module>\u001b[1;34m\u001b[0m\n\u001b[0;32m      1\u001b[0m \u001b[0mk\u001b[0m \u001b[1;33m=\u001b[0m \u001b[1;33m(\u001b[0m\u001b[1;36m1\u001b[0m\u001b[1;33m,\u001b[0m \u001b[1;36m2.5\u001b[0m\u001b[1;33m)\u001b[0m\u001b[1;33m\u001b[0m\u001b[1;33m\u001b[0m\u001b[0m\n\u001b[0;32m      2\u001b[0m \u001b[0mprint\u001b[0m\u001b[1;33m(\u001b[0m\u001b[0mk\u001b[0m\u001b[1;33m[\u001b[0m\u001b[1;36m0\u001b[0m\u001b[1;33m]\u001b[0m\u001b[1;33m)\u001b[0m\u001b[1;33m\u001b[0m\u001b[1;33m\u001b[0m\u001b[0m\n\u001b[1;32m----> 3\u001b[1;33m \u001b[0mk\u001b[0m\u001b[1;33m[\u001b[0m\u001b[1;36m0\u001b[0m\u001b[1;33m]\u001b[0m \u001b[1;33m=\u001b[0m \u001b[1;36m4.5\u001b[0m\u001b[1;33m\u001b[0m\u001b[1;33m\u001b[0m\u001b[0m\n\u001b[0m",
      "\u001b[1;31mTypeError\u001b[0m: 'tuple' object does not support item assignment"
     ]
    }
   ],
   "source": [
    "k = (1, 2.5)\n",
    "print(k[0])\n",
    "k[0] = 4.5"
   ]
  },
  {
   "cell_type": "markdown",
   "metadata": {
    "deletable": false,
    "editable": false,
    "nbgrader": {
     "cell_type": "markdown",
     "checksum": "24f6cce46ac8b55fd4f46de1e37777f7",
     "grade": false,
     "grade_id": "cell-bda034424c17f070",
     "locked": true,
     "schema_version": 3,
     "solution": false
    }
   },
   "source": [
    "#### Typ `str` (łańcuch znaków)"
   ]
  },
  {
   "cell_type": "code",
   "execution_count": 20,
   "metadata": {},
   "outputs": [
    {
     "name": "stdout",
     "output_type": "stream",
     "text": [
      "Witaj świecie\n"
     ]
    },
    {
     "data": {
      "text/plain": [
       "str"
      ]
     },
     "execution_count": 20,
     "metadata": {},
     "output_type": "execute_result"
    }
   ],
   "source": [
    "z = 'Witaj świecie'\n",
    "print(z)\n",
    "type(z)"
   ]
  },
  {
   "cell_type": "code",
   "execution_count": 21,
   "metadata": {},
   "outputs": [
    {
     "name": "stdout",
     "output_type": "stream",
     "text": [
      "WITAJ ŚWIECIE\n"
     ]
    }
   ],
   "source": [
    "print(z.upper())"
   ]
  },
  {
   "cell_type": "markdown",
   "metadata": {
    "deletable": false,
    "editable": false,
    "nbgrader": {
     "cell_type": "markdown",
     "checksum": "8bb3b764b9b156001ccc3e9dd81a5204",
     "grade": false,
     "grade_id": "cell-12b6fd3d31a5e83e",
     "locked": true,
     "schema_version": 3,
     "solution": false
    }
   },
   "source": [
    "### Operatory arytmetyczne (`+, -, *, /, //, **, %`)"
   ]
  },
  {
   "cell_type": "code",
   "execution_count": 22,
   "metadata": {},
   "outputs": [
    {
     "name": "stdout",
     "output_type": "stream",
     "text": [
      "7\n",
      "-3\n",
      "10\n",
      "0.4\n",
      "0\n",
      "32\n",
      "2\n"
     ]
    }
   ],
   "source": [
    "# dwie liczby typu int\n",
    "a = 2\n",
    "b = 5\n",
    "print(a+b)\n",
    "print(a-b)\n",
    "print(a*b)\n",
    "print(a/b) # rzutuje na float\n",
    "print(a//b) # int\n",
    "print(a**b) # potęgowanie\n",
    "print(a%b) # reszta z dzielenia, modulo"
   ]
  },
  {
   "cell_type": "markdown",
   "metadata": {
    "deletable": false,
    "editable": false,
    "nbgrader": {
     "cell_type": "markdown",
     "checksum": "5302a0787c535f96ee7a26a3cac7fa6d",
     "grade": false,
     "grade_id": "cell-21476b07590d5ca6",
     "locked": true,
     "schema_version": 3,
     "solution": false
    }
   },
   "source": [
    "Operatory arytmetyczne definiowane są również dla prawie wszystkich typów danych nie tylko liczbowych. Co ważne, Python jest silnie typowany co oznacza m.in., że nie można dowolnie łączyć typów w operacjach arytmetycznych."
   ]
  },
  {
   "cell_type": "code",
   "execution_count": 23,
   "metadata": {},
   "outputs": [
    {
     "ename": "TypeError",
     "evalue": "unsupported operand type(s) for +: 'float' and 'str'",
     "output_type": "error",
     "traceback": [
      "\u001b[1;31m---------------------------------------------------------------------------\u001b[0m",
      "\u001b[1;31mTypeError\u001b[0m                                 Traceback (most recent call last)",
      "\u001b[1;32m<ipython-input-23-b9051abaf34a>\u001b[0m in \u001b[0;36m<module>\u001b[1;34m\u001b[0m\n\u001b[1;32m----> 1\u001b[1;33m \u001b[1;36m2.5\u001b[0m \u001b[1;33m+\u001b[0m \u001b[1;34m'a'\u001b[0m\u001b[1;33m\u001b[0m\u001b[1;33m\u001b[0m\u001b[0m\n\u001b[0m",
      "\u001b[1;31mTypeError\u001b[0m: unsupported operand type(s) for +: 'float' and 'str'"
     ]
    }
   ],
   "source": [
    "2.5 + 'a'"
   ]
  },
  {
   "cell_type": "markdown",
   "metadata": {
    "deletable": false,
    "editable": false,
    "nbgrader": {
     "cell_type": "markdown",
     "checksum": "994608a070731fe84f3130726f1fab06",
     "grade": false,
     "grade_id": "cell-86c09924fd76d0c0",
     "locked": true,
     "schema_version": 3,
     "solution": false
    }
   },
   "source": [
    "Jednak dla niektórych typów działa tak zwana konwersja niejawna (rzutowanie na obiekt klasy \"nadrzędnej\")"
   ]
  },
  {
   "cell_type": "code",
   "execution_count": 24,
   "metadata": {},
   "outputs": [
    {
     "name": "stdout",
     "output_type": "stream",
     "text": [
      "(4.5-3j)\n"
     ]
    },
    {
     "data": {
      "text/plain": [
       "complex"
      ]
     },
     "execution_count": 24,
     "metadata": {},
     "output_type": "execute_result"
    }
   ],
   "source": [
    "a = 2.5 + (2-3j)\n",
    "print(a)\n",
    "type(a)"
   ]
  },
  {
   "cell_type": "markdown",
   "metadata": {
    "deletable": false,
    "editable": false,
    "nbgrader": {
     "cell_type": "markdown",
     "checksum": "d55b67a02179accb098eadb6b1099e80",
     "grade": false,
     "grade_id": "cell-7dcdef43c03e1d17",
     "locked": true,
     "schema_version": 3,
     "solution": false
    }
   },
   "source": [
    "### Operatory porównania ( `==`, `>`, `>=`, `<`, `<=`, `!=`)\n",
    "Zawsze zwracany jest typ `bool` (True, False)."
   ]
  },
  {
   "cell_type": "code",
   "execution_count": 25,
   "metadata": {},
   "outputs": [
    {
     "name": "stdout",
     "output_type": "stream",
     "text": [
      "False\n",
      "True\n",
      "True\n"
     ]
    }
   ],
   "source": [
    "print(2==3)\n",
    "print(2!=3)\n",
    "print(2<3)"
   ]
  },
  {
   "cell_type": "markdown",
   "metadata": {
    "deletable": false,
    "editable": false,
    "nbgrader": {
     "cell_type": "markdown",
     "checksum": "4f985cf71dd1d58dd36a164913eba8f4",
     "grade": false,
     "grade_id": "cell-914a8c5c273d05e0",
     "locked": true,
     "schema_version": 3,
     "solution": false,
     "task": false
    }
   },
   "source": [
    "### Operatory logiczne `and`, `or` i `not`\n",
    "Używając operatorów `and`, `or` i `not` tworzymy wyrażenia boolowskie."
   ]
  },
  {
   "cell_type": "code",
   "execution_count": 26,
   "metadata": {},
   "outputs": [
    {
     "name": "stdout",
     "output_type": "stream",
     "text": [
      "10 True; 10 True\n"
     ]
    }
   ],
   "source": [
    "# warunkiem może być dowolne wyrażenie zwracające True lub False\n",
    "a = 10\n",
    "b = a < 20 and a >5\n",
    "print(a, b, end='; ')\n",
    "    \n",
    "# to samo mozemy zapisać prościej\n",
    "b = 5 < a < 20\n",
    "print(a, b)"
   ]
  },
  {
   "cell_type": "markdown",
   "metadata": {
    "deletable": false,
    "editable": false,
    "nbgrader": {
     "cell_type": "markdown",
     "checksum": "82a36464120423834d0cfe15c1ac66a2",
     "grade": false,
     "grade_id": "cell-b2d20edd2c74329d",
     "locked": true,
     "schema_version": 3,
     "solution": false
    }
   },
   "source": [
    "### Operatory `is`, `is not` oraz słowo kluczowe `None`"
   ]
  },
  {
   "cell_type": "code",
   "execution_count": 27,
   "metadata": {},
   "outputs": [
    {
     "name": "stdout",
     "output_type": "stream",
     "text": [
      "False\n",
      "True\n",
      "True\n",
      "True\n"
     ]
    }
   ],
   "source": [
    "a = 2\n",
    "b = 3\n",
    "c = 2\n",
    "print(a is b)\n",
    "print(a is c)\n",
    "print(b is not c)\n",
    "d = None  # None oznacza 'nic', pusty obiekt\n",
    "print(d is None)"
   ]
  },
  {
   "cell_type": "markdown",
   "metadata": {
    "deletable": false,
    "editable": false,
    "nbgrader": {
     "cell_type": "markdown",
     "checksum": "5da43add3733f55421cb47995af73581",
     "grade": false,
     "grade_id": "cell-8321d8171abc7fb0",
     "locked": true,
     "schema_version": 3,
     "solution": false
    }
   },
   "source": [
    "### Biblioteka matematyczna `math`.\n",
    "W Python wbudowane są niektóre podstawowe finkcje matematyczne, taki jak `abs`, `min`, `max`, `sum`, `pow`. Inne znaleźć można w bibliotece (module) `math`. Import bibliotek (modułów, pakietów) w języku Python dokonuje się za pomocą słowa kluczowego `import`.\n",
    "\n",
    "https://docs.python.org/3/library/math.html"
   ]
  },
  {
   "cell_type": "code",
   "execution_count": 28,
   "metadata": {},
   "outputs": [
    {
     "name": "stdout",
     "output_type": "stream",
     "text": [
      "-4\n",
      "5.5\n"
     ]
    },
    {
     "data": {
      "text/plain": [
       "4"
      ]
     },
     "execution_count": 28,
     "metadata": {},
     "output_type": "execute_result"
    }
   ],
   "source": [
    "print(min(1,2,-4,2))\n",
    "print(max(2, 1.4, 3, 5.5))\n",
    "abs(-4)"
   ]
  },
  {
   "cell_type": "code",
   "execution_count": 29,
   "metadata": {},
   "outputs": [],
   "source": [
    "# aby wczytać pakiet math wpisujemy\n",
    "import math\n",
    "# możemy zaimportowac tylko wybrane funkcje\n",
    "from math import sin, cos"
   ]
  },
  {
   "cell_type": "code",
   "execution_count": 30,
   "metadata": {},
   "outputs": [
    {
     "data": {
      "text/plain": [
       "0.0"
      ]
     },
     "execution_count": 30,
     "metadata": {},
     "output_type": "execute_result"
    }
   ],
   "source": [
    "math.log(1)"
   ]
  },
  {
   "cell_type": "code",
   "execution_count": 31,
   "metadata": {},
   "outputs": [
    {
     "data": {
      "text/plain": [
       "1.0"
      ]
     },
     "execution_count": 31,
     "metadata": {},
     "output_type": "execute_result"
    }
   ],
   "source": [
    "sin(math.radians(90))"
   ]
  },
  {
   "cell_type": "markdown",
   "metadata": {
    "deletable": false,
    "editable": false,
    "nbgrader": {
     "cell_type": "markdown",
     "checksum": "aa4c6f61c7643acd52f8fd176ddb4ce4",
     "grade": false,
     "grade_id": "cell-069dab1962069f6a",
     "locked": true,
     "schema_version": 3,
     "solution": false
    }
   },
   "source": [
    "### Wprowadzanie wartości z klawiatury `input()`\n",
    "Funkcja `input()` zwraca obiekt typi `str` (łańcuch znaków/napis). Wobec czego jeśli chcemy wprowadzić liczbę musimy ją po wczytaniu skonwertować na odpowiedni typ stosują metody `int()`, `float()` lub `complex()`. "
   ]
  },
  {
   "cell_type": "code",
   "execution_count": 32,
   "metadata": {},
   "outputs": [
    {
     "name": "stdout",
     "output_type": "stream",
     "text": [
      "tekst\n",
      "Wprowadzona wartość to: tekst\n",
      "Typ wprowadzonej wartości: <class 'str'>\n"
     ]
    }
   ],
   "source": [
    "a = input()\n",
    "print('Wprowadzona wartość to:', a)\n",
    "print('Typ wprowadzonej wartości:', type(a))"
   ]
  },
  {
   "cell_type": "markdown",
   "metadata": {
    "deletable": false,
    "editable": false,
    "nbgrader": {
     "cell_type": "markdown",
     "checksum": "061ac2f48edb5395ad130f1320281abf",
     "grade": false,
     "grade_id": "cell-0357313d335f2b43",
     "locked": true,
     "schema_version": 3,
     "solution": false
    }
   },
   "source": [
    "### Ćwiczenie 1a\n",
    "Napisz program, który dla podanej liczby rzeczywistej zwróci licznik i mianownik z ułamka zwykłego tej liczby. \n",
    "#### Rozwiązanie:"
   ]
  },
  {
   "cell_type": "code",
   "execution_count": 33,
   "metadata": {},
   "outputs": [
    {
     "name": "stdout",
     "output_type": "stream",
     "text": [
      "Podaj liczbe rzeczywistą: \n",
      "4.5\n",
      "Licznik: 9\n",
      "Mianownik: 2\n"
     ]
    }
   ],
   "source": [
    "print('Podaj liczbe rzeczywistą: ')\n",
    "a = input()\n",
    "a = float(a)\n",
    "b = a.as_integer_ratio()\n",
    "print('Licznik:', b[0])\n",
    "print('Mianownik:', b[1])"
   ]
  },
  {
   "cell_type": "markdown",
   "metadata": {
    "deletable": false,
    "editable": false,
    "nbgrader": {
     "cell_type": "markdown",
     "checksum": "65a7aa1429796264f7d122582f581b9c",
     "grade": false,
     "grade_id": "cell-01780820da67534e",
     "locked": true,
     "schema_version": 3,
     "solution": false
    }
   },
   "source": [
    "### Ćwiczenie 2a\n",
    "Napisz program, który przeczyta ze standartowego wejścia dwie liczby rzeczywiste i zapisze je kolejno w zmiennych $x$, $z$ typu `float`, przeczyta dwie liczby całkowite i zapisze je w zmiennych $i$, $j$ typu `int`, a następnie obliczy wartości następujących wyrażeń arytmetycznych:\n",
    "$$w=\\sqrt[3]{\\frac{x+2}{i}}  \\sin^{j}(x^2+z^2)$$\n",
    "$$v={\\frac{\\ln x^2+2x^2+z^{-2}}{(x+z)i}}+\\frac{i}{j} $$\n",
    "\n",
    "\n",
    "Dla $x=1.5, z=2.3, i=2, j=3\\ $ wyrażenia te mają wartości:\n",
    "\n",
    "$w = 1.036828279188784,\\quad v = 1.3903464210141043$"
   ]
  },
  {
   "cell_type": "code",
   "execution_count": 37,
   "metadata": {
    "deletable": false,
    "nbgrader": {
     "cell_type": "code",
     "checksum": "c5de356101f422613ff5e88b053b8f54",
     "grade": false,
     "grade_id": "cell-4478774f5480718b",
     "locked": false,
     "schema_version": 3,
     "solution": true,
     "task": false
    }
   },
   "outputs": [
    {
     "name": "stdout",
     "output_type": "stream",
     "text": [
      "Podaj dwie liczby rzeczywiste:\n",
      "1.5\n",
      "2.3\n",
      "\n",
      "Podaj dwie liczby całkowite:\n",
      "2\n",
      "3\n",
      "\n",
      "Wynik w =  1.036828279188784 Wynik v =  1.3903464210141043\n"
     ]
    }
   ],
   "source": [
    "import math\n",
    "\n",
    "# YOUR CODE HERE\n",
    "print(\"Podaj dwie liczby rzeczywiste:\")\n",
    "x = float(input())\n",
    "z = float(input())\n",
    "print(\"\\nPodaj dwie liczby całkowite:\")\n",
    "i = int(input())\n",
    "j = int(input())\n",
    "\n",
    "w = pow((x+2)/i, 1/3)*pow(sin(x*x + z*z), j)\n",
    "\n",
    "v = ((math.log(x*x) + 2*(x*x) + pow(z, -2))/((x+z)*i)) + i/j\n",
    "\n",
    "print(\"\\nWynik w = \", w, \"Wynik v = \", v)\n",
    "# raise NotImplementedError()"
   ]
  },
  {
   "cell_type": "markdown",
   "metadata": {
    "deletable": false,
    "editable": false,
    "nbgrader": {
     "cell_type": "markdown",
     "checksum": "03dba65a46b0e0bf14882f83b0e2dcc5",
     "grade": false,
     "grade_id": "cell-b21531a0b0d3d258",
     "locked": true,
     "schema_version": 3,
     "solution": false
    }
   },
   "source": [
    "### Temat: Praca z tekstem, Typ `str`.\n",
    "\n",
    "### Definiowanie tekstu\n",
    "Tekst w języku Python definiujemy w apostrofach `'` lub cudzysłowach `\"`. Do definiowania tekstów w więcej niż jednej linijce używamy potrójnych apostrofów `'''` bądź cudzysłowiów `\"\"\"`. Tekst możemy również przypisywać do zmiennych."
   ]
  },
  {
   "cell_type": "code",
   "execution_count": 38,
   "metadata": {},
   "outputs": [
    {
     "name": "stdout",
     "output_type": "stream",
     "text": [
      "tekst w apostrofach\n",
      "tekst w cudzysłowach\n",
      "<class 'str'> <class 'str'>\n"
     ]
    }
   ],
   "source": [
    "napis1 = 'tekst w apostrofach'\n",
    "napis2 = \"tekst w cudzysłowach\"\n",
    "print(napis1)\n",
    "print(napis2)\n",
    "print(type(napis1), type(napis2))"
   ]
  },
  {
   "cell_type": "code",
   "execution_count": 39,
   "metadata": {},
   "outputs": [
    {
     "name": "stdout",
     "output_type": "stream",
     "text": [
      "To jest tekst\n",
      "w więcej niż \n",
      "jednej linijce\n"
     ]
    }
   ],
   "source": [
    "napis3 = '''To jest tekst\n",
    "w więcej niż \n",
    "jednej linijce'''\n",
    "print(napis3)"
   ]
  },
  {
   "cell_type": "markdown",
   "metadata": {
    "deletable": false,
    "editable": false,
    "nbgrader": {
     "cell_type": "markdown",
     "checksum": "de2a6531a3fbb419a6099c1b0793a5a1",
     "grade": false,
     "grade_id": "cell-d9792267dd70719f",
     "locked": true,
     "schema_version": 3,
     "solution": false
    }
   },
   "source": [
    "Jak widać na powyższym przykładzie nie ma problemów z literami polskimi takimi jak `ą, ć, ł` itp. Winika to z tego, że domyślnie w Python 3 (inaczej niż w Python 2) znaki kodowane są za pomoca kodowania `Unicode (16-bit)`, a nie jak w większości innych języków programowania `ASCII (8-bit)`.\n",
    "Aby zdefiniować tekst i narzucić mu kodowanie `ASCII` wystarczy przed apostrofem lub cudzysłowem postawić literę `b`."
   ]
  },
  {
   "cell_type": "code",
   "execution_count": 40,
   "metadata": {},
   "outputs": [
    {
     "name": "stdout",
     "output_type": "stream",
     "text": [
      "Marszałek\n",
      "b'Marszalek'\n"
     ]
    }
   ],
   "source": [
    "# Unicode\n",
    "print('Marszałek')\n",
    "# ASCII\n",
    "print(b'Marszalek')"
   ]
  },
  {
   "cell_type": "markdown",
   "metadata": {
    "deletable": false,
    "editable": false,
    "nbgrader": {
     "cell_type": "markdown",
     "checksum": "6dee6d4d7d58d0e208aa8f24e702291e",
     "grade": false,
     "grade_id": "cell-b003716c08c8fdc1",
     "locked": true,
     "schema_version": 3,
     "solution": false
    }
   },
   "source": [
    "Próba zdefiniowania tekstu zawierającego polskie znaki z kodowaniem `ASCII` zakończy się wyrzuceniem błędu."
   ]
  },
  {
   "cell_type": "code",
   "execution_count": 41,
   "metadata": {},
   "outputs": [
    {
     "ename": "SyntaxError",
     "evalue": "bytes can only contain ASCII literal characters. (<ipython-input-41-9cd932c3fdc7>, line 1)",
     "output_type": "error",
     "traceback": [
      "\u001b[1;36m  File \u001b[1;32m\"<ipython-input-41-9cd932c3fdc7>\"\u001b[1;36m, line \u001b[1;32m1\u001b[0m\n\u001b[1;33m    print(b'Marszałek')\u001b[0m\n\u001b[1;37m          ^\u001b[0m\n\u001b[1;31mSyntaxError\u001b[0m\u001b[1;31m:\u001b[0m bytes can only contain ASCII literal characters.\n"
     ]
    }
   ],
   "source": [
    "print(b'Marszałek')"
   ]
  },
  {
   "cell_type": "markdown",
   "metadata": {
    "deletable": false,
    "editable": false,
    "nbgrader": {
     "cell_type": "markdown",
     "checksum": "bd99344a2c17df4f3db8fad527700b24",
     "grade": false,
     "grade_id": "cell-11d15726331efec1",
     "locked": true,
     "schema_version": 3,
     "solution": false
    }
   },
   "source": [
    "### Znaki specjalne (sekwencje sterujące)\n",
    "Domyślnie rozpoznawane i interpretowane sa znaki specjalne (sekwencje sterujące) takie jak np.:\n",
    "- `\\a` - alarm (sygnał akustyczny terminala)\n",
    "- `\\b` - backspace (usuwa poprzedzający znak)\n",
    "- `\\f` - wysuniecie strony (np. w drukarce)\n",
    "- `\\r` - powrót kursora (karetki) do początku wiersza\n",
    "- `\\n` - znak nowego wiersza\n",
    "- `\\t` - tabulacja pozioma\n",
    "- `\\v` - tabulacja pionowa\n",
    "- `\\nnn` - liczba zapisana w systemie oktalnym (ósemkowym), gdzie 'nnn' należy zastąpić trzycyfrową liczbą w tym systemie\n",
    "- `\\xnn` - liczba zapisana w systemie heksadecymalnym (szesnastkowym), gdzie 'nn' należy zastąpić dwucyfrową liczbą w tym systemie"
   ]
  },
  {
   "cell_type": "code",
   "execution_count": 44,
   "metadata": {},
   "outputs": [
    {
     "name": "stdout",
     "output_type": "stream",
     "text": [
      " Poznajemy podstawowe typy danych\n",
      "\t i instrukcje sterujące używane w\n",
      "języku Python\n"
     ]
    }
   ],
   "source": [
    "print(' Poznajemy podstawowe typy danych\\n\\t i instrukcje sterujące używane w\\njęzyku Python')"
   ]
  },
  {
   "cell_type": "markdown",
   "metadata": {
    "deletable": false,
    "editable": false,
    "nbgrader": {
     "cell_type": "markdown",
     "checksum": "632456ee485ec14e5b2f6d024d936442",
     "grade": false,
     "grade_id": "cell-783d71e00a052b6c",
     "locked": true,
     "schema_version": 3,
     "solution": false
    }
   },
   "source": [
    "Jak widać znaki `\\, ', \"` mają specjalne znaczenie, aby użyć ich w tekscie należy zamaskować ich działanie stosując znak `\\`, np. \n",
    "- `\\\"` - cudzysłów\n",
    "- `\\'` - apostrof\n",
    "- `\\\\` - ukośnik wsteczny (backslash)"
   ]
  },
  {
   "cell_type": "code",
   "execution_count": 46,
   "metadata": {},
   "outputs": [
    {
     "name": "stdout",
     "output_type": "stream",
     "text": [
      "Poznajemy podstawowe typy danych i instrukcje sterujące używane w języku \"Python\"\n"
     ]
    }
   ],
   "source": [
    "print('Poznajemy podstawowe typy danych i instrukcje sterujące używane w języku \\\"Python\\\"')"
   ]
  },
  {
   "cell_type": "markdown",
   "metadata": {
    "deletable": false,
    "editable": false,
    "nbgrader": {
     "cell_type": "markdown",
     "checksum": "768d994fb0cf0c226ea6c2edfdb9865a",
     "grade": false,
     "grade_id": "cell-13bca2b2ca90a1b9",
     "locked": true,
     "schema_version": 3,
     "solution": false
    }
   },
   "source": [
    "### Surowy tekst (raw strings)\n",
    "Aby w całym tekscie potraktować znaki specjalne jak zwykłe znaki wystarczy przed apostrofem lub cudzysłowem wstawić znak `r`. Często wykorzystywane np. przy scieżkach do plików."
   ]
  },
  {
   "cell_type": "code",
   "execution_count": 47,
   "metadata": {},
   "outputs": [
    {
     "name": "stdout",
     "output_type": "stream",
     "text": [
      "   Poznajemy podstawowe typy danych\n",
      "\t i instrukcje sterujące\n",
      "używane w języku \"Python\"\n",
      "   Poznajemy podstawowe typy danych\\n\\t i instrukcje sterujące\\nużywane w języku \\\"Python\\\"\n"
     ]
    }
   ],
   "source": [
    "print('   Poznajemy podstawowe typy danych\\n\\t i instrukcje sterujące\\nużywane w języku \\\"Python\\\"')\n",
    "print(r'   Poznajemy podstawowe typy danych\\n\\t i instrukcje sterujące\\nużywane w języku \\\"Python\\\"')"
   ]
  },
  {
   "cell_type": "markdown",
   "metadata": {
    "deletable": false,
    "editable": false,
    "nbgrader": {
     "cell_type": "markdown",
     "checksum": "fe387567fe880ac50c5df704d45369b3",
     "grade": false,
     "grade_id": "cell-c415c9d17d13ce88",
     "locked": true,
     "schema_version": 3,
     "solution": false
    }
   },
   "source": [
    "### Dostęp do poszczególnych znaków i plasterkowanie (slicing) tekstu\n",
    "Z tekstu możemy wybierac pojedyńcze znaki lub fragment teksu. Aby wybrać dowolny znak z tekstu należy użyć metody wbudowanej  `__getitem__` lub prościej operatora `[]`."
   ]
  },
  {
   "cell_type": "code",
   "execution_count": 50,
   "metadata": {},
   "outputs": [
    {
     "name": "stdout",
     "output_type": "stream",
     "text": [
      "I\n",
      "o\n"
     ]
    }
   ],
   "source": [
    "s = 'Informatyka'\n",
    "print(s.__getitem__(0)) # numeracja od 0\n",
    "print(s[3])"
   ]
  },
  {
   "cell_type": "markdown",
   "metadata": {
    "deletable": false,
    "editable": false,
    "nbgrader": {
     "cell_type": "markdown",
     "checksum": "1f5b1021bd9d6291d70d76eba7d67648",
     "grade": false,
     "grade_id": "cell-8bc25f24846c7644",
     "locked": true,
     "schema_version": 3,
     "solution": false
    }
   },
   "source": [
    "Podanie indeksu większego niż liczba znaków skończy się wyrzyceniem błędu.\n",
    "\n",
    "Możemy numerować pozycje od końca, wstawiając liczby ujemne."
   ]
  },
  {
   "cell_type": "code",
   "execution_count": 51,
   "metadata": {},
   "outputs": [
    {
     "name": "stdout",
     "output_type": "stream",
     "text": [
      "a\n",
      "y\n"
     ]
    }
   ],
   "source": [
    "print(s[-1]) # ostatni znak\n",
    "print(s[-3]) # znak trzeci od końca"
   ]
  },
  {
   "cell_type": "markdown",
   "metadata": {
    "deletable": false,
    "editable": false,
    "nbgrader": {
     "cell_type": "markdown",
     "checksum": "5b16476386c22d1fb6c889e598c3bad4",
     "grade": false,
     "grade_id": "cell-938fdf109c7007af",
     "locked": true,
     "schema_version": 3,
     "solution": false
    }
   },
   "source": [
    "Aby wybrać fragment tekstu należy użyć konstrukcji `[s:e:k]`, gdzie `s` to pozycja pierwszego znaku który chcemy wybrać, `e` to pozycja pierwszego znaku którego nie chcemy wybrać, `k` to krok z jakim wybieramy znaki."
   ]
  },
  {
   "cell_type": "code",
   "execution_count": 61,
   "metadata": {},
   "outputs": [
    {
     "name": "stdout",
     "output_type": "stream",
     "text": [
      "nform\n",
      "nom\n",
      "ty\n"
     ]
    }
   ],
   "source": [
    "# wybieranie fragmentu \n",
    "print(s[1:6])\n",
    "# wybieranie znaków z krokiem\n",
    "print(s[1:6:2])\n",
    "# od tyłu\n",
    "print(s[-4:-2])"
   ]
  },
  {
   "cell_type": "markdown",
   "metadata": {
    "deletable": false,
    "editable": false,
    "nbgrader": {
     "cell_type": "markdown",
     "checksum": "79be7a0012a4f14fa046fd0f5bded3ed",
     "grade": false,
     "grade_id": "cell-239baf5303697213",
     "locked": true,
     "schema_version": 3,
     "solution": false
    }
   },
   "source": [
    "__Uwaga:__ Tekst podobnie jak krotka jest obiektem niemodyfikowalnym, tzn. nie można zmienić wartości znaku na danej pozycji poprzez stosowanie operatora `[]`."
   ]
  },
  {
   "cell_type": "code",
   "execution_count": 62,
   "metadata": {},
   "outputs": [
    {
     "ename": "TypeError",
     "evalue": "'str' object does not support item assignment",
     "output_type": "error",
     "traceback": [
      "\u001b[1;31m---------------------------------------------------------------------------\u001b[0m",
      "\u001b[1;31mTypeError\u001b[0m                                 Traceback (most recent call last)",
      "\u001b[1;32m<ipython-input-62-ba0f8f2f87e6>\u001b[0m in \u001b[0;36m<module>\u001b[1;34m\u001b[0m\n\u001b[0;32m      1\u001b[0m \u001b[0ms\u001b[0m \u001b[1;33m=\u001b[0m \u001b[1;34m'Informatyka'\u001b[0m\u001b[1;33m\u001b[0m\u001b[1;33m\u001b[0m\u001b[0m\n\u001b[1;32m----> 2\u001b[1;33m \u001b[0ms\u001b[0m\u001b[1;33m[\u001b[0m\u001b[1;36m1\u001b[0m\u001b[1;33m]\u001b[0m \u001b[1;33m=\u001b[0m \u001b[1;34m'A'\u001b[0m  \u001b[1;31m#chcemy zmienić 'a' ma 'A', nie da się\u001b[0m\u001b[1;33m\u001b[0m\u001b[1;33m\u001b[0m\u001b[0m\n\u001b[0m",
      "\u001b[1;31mTypeError\u001b[0m: 'str' object does not support item assignment"
     ]
    }
   ],
   "source": [
    "s = 'Informatyka'\n",
    "s[1] = 'A'  #chcemy zmienić 'a' ma 'A', nie da się"
   ]
  },
  {
   "cell_type": "markdown",
   "metadata": {
    "deletable": false,
    "editable": false,
    "nbgrader": {
     "cell_type": "markdown",
     "checksum": "4ad8e9fb7ee741dc38e29ff9856f967e",
     "grade": false,
     "grade_id": "cell-2cc0c3c12da24876",
     "locked": true,
     "schema_version": 3,
     "solution": false
    }
   },
   "source": [
    "### Operatory `+`, `*`\n",
    "Dla typu `str` zdefiniowane zostały dwa operatory\n",
    "- `+` - łączenie tekstów, `(str + str = str)`\n",
    "- `*` - powielanie tekstu, `(str * int = str)`"
   ]
  },
  {
   "cell_type": "code",
   "execution_count": 63,
   "metadata": {},
   "outputs": [
    {
     "name": "stdout",
     "output_type": "stream",
     "text": [
      "Informatyka rok II semestr II\n"
     ]
    }
   ],
   "source": [
    "t1 = 'Informatyka'\n",
    "t2 = 'rok II'\n",
    "t3 = 'semestr II'\n",
    "t4 = t1 + ' ' + t2 + ' ' + t3\n",
    "print(t4)"
   ]
  },
  {
   "cell_type": "code",
   "execution_count": 64,
   "metadata": {},
   "outputs": [
    {
     "name": "stdout",
     "output_type": "stream",
     "text": [
      "InformatykaInformatykaInformatykaInformatykaInformatyka\n"
     ]
    }
   ],
   "source": [
    "t5 = t1 * 5\n",
    "print(t5)"
   ]
  },
  {
   "cell_type": "markdown",
   "metadata": {
    "deletable": false,
    "editable": false,
    "nbgrader": {
     "cell_type": "markdown",
     "checksum": "0485bd3dc47e0d10ad6fc7a5dc95aaa8",
     "grade": false,
     "grade_id": "cell-437d194315718329",
     "locked": true,
     "schema_version": 3,
     "solution": false
    }
   },
   "source": [
    "### Słowa kluczowe `in`, `not in`\n",
    "Dzięki słową kluczowym `in', 'not in` możemy zapytać czy jakiś znak lub ciąg znaków występuje bądź nie występuje w tekscie."
   ]
  },
  {
   "cell_type": "code",
   "execution_count": 65,
   "metadata": {},
   "outputs": [
    {
     "data": {
      "text/plain": [
       "True"
      ]
     },
     "execution_count": 65,
     "metadata": {},
     "output_type": "execute_result"
    }
   ],
   "source": [
    "tekst = \"Informatyka jest super!!!\"\n",
    "'I' in tekst"
   ]
  },
  {
   "cell_type": "code",
   "execution_count": 66,
   "metadata": {},
   "outputs": [
    {
     "data": {
      "text/plain": [
       "False"
      ]
     },
     "execution_count": 66,
     "metadata": {},
     "output_type": "execute_result"
    }
   ],
   "source": [
    "'i' in tekst"
   ]
  },
  {
   "cell_type": "code",
   "execution_count": 67,
   "metadata": {},
   "outputs": [
    {
     "data": {
      "text/plain": [
       "False"
      ]
     },
     "execution_count": 67,
     "metadata": {},
     "output_type": "execute_result"
    }
   ],
   "source": [
    "'Informatyka' not in tekst"
   ]
  },
  {
   "cell_type": "markdown",
   "metadata": {
    "deletable": false,
    "editable": false,
    "nbgrader": {
     "cell_type": "markdown",
     "checksum": "b8bb5a3955f89e0a44eda43a0ebdeff0",
     "grade": false,
     "grade_id": "cell-50a495acc20659d6",
     "locked": true,
     "schema_version": 3,
     "solution": false
    }
   },
   "source": [
    "### Długość tekstu\n",
    "Do zwrócenia liczby znaków w tekscie służy metoda wbudowana `len` "
   ]
  },
  {
   "cell_type": "code",
   "execution_count": 68,
   "metadata": {},
   "outputs": [
    {
     "name": "stdout",
     "output_type": "stream",
     "text": [
      "Informatyka jest super!!!\n",
      "25\n"
     ]
    }
   ],
   "source": [
    "print(tekst)\n",
    "print(len(tekst))"
   ]
  },
  {
   "cell_type": "markdown",
   "metadata": {
    "deletable": false,
    "editable": false,
    "nbgrader": {
     "cell_type": "markdown",
     "checksum": "c54a7ee86882dba04c25388167b09e56",
     "grade": false,
     "grade_id": "cell-c43f50a835620f3f",
     "locked": true,
     "schema_version": 3,
     "solution": false
    }
   },
   "source": [
    "### Operator `%`\n",
    "Bardzo fajny i przydatny przy formatowaniu teskstu jest operator `%`, który pozwala wstawiać do tekstu wartości zmiennych w podobny sposób jak w innych językach np. C."
   ]
  },
  {
   "cell_type": "code",
   "execution_count": null,
   "metadata": {
    "collapsed": true
   },
   "outputs": [],
   "source": [
    "imie = 'Adam'\n",
    "jezyk = 'Python'\n",
    "lata = 7\n",
    "print('Mam na imię %s i programuję w języku %s od ponad %d lat.' % (imie, jezyk, lata))"
   ]
  },
  {
   "cell_type": "markdown",
   "metadata": {
    "deletable": false,
    "editable": false,
    "nbgrader": {
     "cell_type": "markdown",
     "checksum": "c6720998f632cafac1d72dea04fa976a",
     "grade": false,
     "grade_id": "cell-bda034424c17f071",
     "locked": true,
     "schema_version": 3,
     "solution": false
    }
   },
   "source": [
    "Możliwy symbole do wykorzystania (wybaczcie ale nie chciało mi się tłumaczyć :)):\n",
    "- `%c` - character\n",
    "- `%s` - string conversion via str() prior to formatting\t\n",
    "- `%i` - signed decimal integer\n",
    "- `%d` - signed decimal integer\n",
    "- `%u` - unsigned decimal integer\n",
    "- `%o` - octal integer\n",
    "- `%x` - hexadecimal integer (lowercase letters)\n",
    "- `%X` - hexadecimal integer (UPPERcase letters)\n",
    "- `%e` - exponential notation (with lowercase 'e')\n",
    "- `%E` - exponential notation (with UPPERcase 'E')\n",
    "- `%f` - floating point real number\n",
    "- `%g` - the shorter of %f and %e\n",
    "- `%G` - the shorter of %f and %E\n",
    "\n",
    "\n",
    "- `*` - argument specifies width or precision\n",
    "- `-` - left justification\t\n",
    "- `+` - display the sign\n",
    "- `<sp>` - leave a blank space before a positive number\n",
    "- `#` - add the octal leading zero ( '0' ) or hexadecimal leading '0x' or '0X', depending on whether 'x' or 'X' were used.\n",
    "- `0` - pad from left with zeros (instead of spaces)\n",
    "- `%` - '%%' leaves you with a single literal '%'\n",
    "- `(var)` - mapping variable (dictionary arguments)\n",
    "- `m.n.` - m is the minimum total width and n is the number of digits to display after the decimal point (if appl.)\n",
    "\n",
    "Przykład:"
   ]
  },
  {
   "cell_type": "code",
   "execution_count": 72,
   "metadata": {},
   "outputs": [
    {
     "name": "stdout",
     "output_type": "stream",
     "text": [
      "Liczba pi: +3.141592653590\n"
     ]
    }
   ],
   "source": [
    "from math import pi\n",
    "print('Liczba pi: %+.12f' % pi)"
   ]
  },
  {
   "cell_type": "markdown",
   "metadata": {
    "deletable": false,
    "editable": false,
    "nbgrader": {
     "cell_type": "markdown",
     "checksum": "35fe5a6177bf555ebfd8183e4003d372",
     "grade": false,
     "grade_id": "cell-12b6fd3d31a5e83f",
     "locked": true,
     "schema_version": 3,
     "solution": false
    }
   },
   "source": [
    "### Metody obiektu `str`\n",
    "Obiekty typu `str` (teksty) posiadają bardzo dużo przydatnych metod gotowych do użycia. Lista wraz z dokumentacją po tym linkiem https://docs.python.org/3/library/stdtypes.html#string-methods. \n",
    "\n",
    "Poniżej kilka przykładowych."
   ]
  },
  {
   "cell_type": "code",
   "execution_count": 73,
   "metadata": {},
   "outputs": [
    {
     "data": {
      "text/plain": [
       "17"
      ]
     },
     "execution_count": 73,
     "metadata": {},
     "output_type": "execute_result"
    }
   ],
   "source": [
    "tekst = 'Informatyka jest super!!!'\n",
    "tekst.find('super') # jeżeli szukana fraza zostanie znaleziona to zwraca pozycje poczatkową, jeśli nie, -1"
   ]
  },
  {
   "cell_type": "code",
   "execution_count": 74,
   "metadata": {},
   "outputs": [
    {
     "data": {
      "text/plain": [
       "'INFORMATYKA JEST SUPER!!!'"
      ]
     },
     "execution_count": 74,
     "metadata": {},
     "output_type": "execute_result"
    }
   ],
   "source": [
    "tekst.upper() # zamienia na duże litery"
   ]
  },
  {
   "cell_type": "code",
   "execution_count": 75,
   "metadata": {},
   "outputs": [
    {
     "data": {
      "text/plain": [
       "'Informatyka jest cool!!!'"
      ]
     },
     "execution_count": 75,
     "metadata": {},
     "output_type": "execute_result"
    }
   ],
   "source": [
    "tekst.replace('super', 'cool') "
   ]
  },
  {
   "cell_type": "code",
   "execution_count": 76,
   "metadata": {},
   "outputs": [
    {
     "data": {
      "text/plain": [
       "1"
      ]
     },
     "execution_count": 76,
     "metadata": {},
     "output_type": "execute_result"
    }
   ],
   "source": [
    "tekst.count('at') # zlicza wystąpienie podanego znaku lub ciągu znaków"
   ]
  },
  {
   "cell_type": "code",
   "execution_count": 77,
   "metadata": {},
   "outputs": [
    {
     "data": {
      "text/plain": [
       "'Informatyka jest super razy 7'"
      ]
     },
     "execution_count": 77,
     "metadata": {},
     "output_type": "execute_result"
    }
   ],
   "source": [
    "tekst = 'Informatyka jest {0} razy {1}'\n",
    "tekst.format('super', 7) # często wykorzystywane zamiast operatora %"
   ]
  },
  {
   "cell_type": "markdown",
   "metadata": {
    "deletable": false,
    "editable": false,
    "nbgrader": {
     "cell_type": "markdown",
     "checksum": "313021fd55d8683c2abd034ddf6edeef",
     "grade": false,
     "grade_id": "cell-e0365ff1229fa3f1",
     "locked": true,
     "schema_version": 3,
     "solution": false
    }
   },
   "source": [
    "### Ćwiczenie 3a\n",
    "Teksty można również porównywać za pomocą operatorów porównania. Sprawdź jak to działa."
   ]
  },
  {
   "cell_type": "code",
   "execution_count": 16,
   "metadata": {},
   "outputs": [
    {
     "data": {
      "text/plain": [
       "True"
      ]
     },
     "execution_count": 16,
     "metadata": {},
     "output_type": "execute_result"
    }
   ],
   "source": [
    "\"ala\" > \"aLa\""
   ]
  },
  {
   "cell_type": "markdown",
   "metadata": {
    "deletable": false,
    "editable": false,
    "nbgrader": {
     "cell_type": "markdown",
     "checksum": "93b997c30ffad900606dcc94f52458e7",
     "grade": false,
     "grade_id": "cell-ac1102a65c432e8f",
     "locked": true,
     "schema_version": 3,
     "solution": false
    }
   },
   "source": [
    "### Ćwiczenie 4a\n",
    "Napisz program, który we wprowadzonym tekście wyeliminuje pierwsze wystąpienie podanego znak. Zakładamy, że podany znak na pewno występuje w tekście."
   ]
  },
  {
   "cell_type": "code",
   "execution_count": 78,
   "metadata": {
    "deletable": false,
    "nbgrader": {
     "cell_type": "code",
     "checksum": "90961e177bda6013f7382b9ad1ac567c",
     "grade": false,
     "grade_id": "cell-eceed302cb759620",
     "locked": false,
     "schema_version": 3,
     "solution": true,
     "task": false
    }
   },
   "outputs": [
    {
     "name": "stdout",
     "output_type": "stream",
     "text": [
      "Wprowadź tekst: Ala ma kota\n",
      "Wprowadź znak: a\n"
     ]
    },
    {
     "data": {
      "text/plain": [
       "'Al ma kota'"
      ]
     },
     "execution_count": 78,
     "metadata": {},
     "output_type": "execute_result"
    }
   ],
   "source": [
    "text = input('Wprowadź tekst: ')\n",
    "znak = input('Wprowadź znak: ')\n",
    "# YOUR CODE HERE\n",
    "text = text.replace(znak, \"\", 1)\n",
    "text\n",
    "# raise NotImplementedError()"
   ]
  },
  {
   "cell_type": "markdown",
   "metadata": {
    "deletable": false,
    "editable": false,
    "nbgrader": {
     "cell_type": "markdown",
     "checksum": "6056d1ecb1827f1fd1a7c4c5893021ec",
     "grade": false,
     "grade_id": "cell-3e73d41a914dfc5e",
     "locked": true,
     "schema_version": 3,
     "solution": false
    }
   },
   "source": [
    "### Ćwiczenie 5a\n",
    "Napisz program, który we wprowadzonym tekscie wyeliminuje ostatnie wystąpienie podanego znak. Zakładamy, że podany znak na pewno wsytępuje w tekscie."
   ]
  },
  {
   "cell_type": "code",
   "execution_count": 79,
   "metadata": {
    "deletable": false,
    "nbgrader": {
     "cell_type": "code",
     "checksum": "c2a8e17646996480f999c73c156b685f",
     "grade": false,
     "grade_id": "cell-99aa0016d90ebf27",
     "locked": false,
     "schema_version": 3,
     "solution": true,
     "task": false
    }
   },
   "outputs": [
    {
     "name": "stdout",
     "output_type": "stream",
     "text": [
      "Wprowadź tekst: Ala ma kota\n",
      "Wprowadź znak:  \n"
     ]
    },
    {
     "data": {
      "text/plain": [
       "'Ala makota'"
      ]
     },
     "execution_count": 79,
     "metadata": {},
     "output_type": "execute_result"
    }
   ],
   "source": [
    "text = input('Wprowadź tekst: ')\n",
    "znak = input('Wprowadź znak: ')\n",
    "# YOUR CODE HERE\n",
    "text = text[::-1]\n",
    "text = text.replace(znak, \"\", 1)\n",
    "text = text[::-1]\n",
    "text\n",
    "# raise NotImplementedError()"
   ]
  },
  {
   "cell_type": "markdown",
   "metadata": {
    "deletable": false,
    "editable": false,
    "nbgrader": {
     "cell_type": "markdown",
     "checksum": "18d9d7ce9eefabd6c84a25af4d38f6c6",
     "grade": false,
     "grade_id": "cell-76d46290d9294e08",
     "locked": true,
     "schema_version": 3,
     "solution": false
    }
   },
   "source": [
    "### Temat: Instrukcje sterujące, Pętle.\n",
    "\n",
    "\n",
    "### Instrukcje warunkowe: `if`, `if else`, `if elif else`\n",
    "Do wykonywania prostych testów (sprawdzania warunków) służą instrukcje `if` i `else`.\n",
    "\n",
    "Struktura składni ma postać:\n",
    "\n",
    "```python\n",
    "if warunek:\n",
    "\tinstrukcje_1\n",
    "else:\n",
    "    instrukcje_2\n",
    "```    \n",
    "Warunki zwarcają wartość `True` lub `False`. \n",
    "\n",
    "Zawartość bloków instrukcji ustalana jest na podstawie wcięć. Klauzula `else` nie jest obowiązkowa."
   ]
  },
  {
   "cell_type": "code",
   "execution_count": 80,
   "metadata": {},
   "outputs": [
    {
     "name": "stdout",
     "output_type": "stream",
     "text": [
      "5\n"
     ]
    }
   ],
   "source": [
    "a = 2\n",
    "b = 3\n",
    "if a < b:  # jeżeli warunek jest True to wykonaj instrukcje w bloku (instrukcje z wcięciami (tab))\n",
    "    print(a+b)"
   ]
  },
  {
   "cell_type": "code",
   "execution_count": 83,
   "metadata": {},
   "outputs": [
    {
     "name": "stdout",
     "output_type": "stream",
     "text": [
      "7\n"
     ]
    }
   ],
   "source": [
    "a = 3\n",
    "b = 4\n",
    "if a < b:  # gdy warunek prawdziwy\n",
    "    print(a+b) \n",
    "else:    # gdy warunek fałszywy\n",
    "    print(a-b)"
   ]
  },
  {
   "cell_type": "markdown",
   "metadata": {
    "deletable": false,
    "editable": false,
    "nbgrader": {
     "cell_type": "markdown",
     "checksum": "8fb1ce67dc85a356b0b9e404abf85c3d",
     "grade": false,
     "grade_id": "cell-778ace5cc4beffa8",
     "locked": true,
     "schema_version": 3,
     "solution": false
    }
   },
   "source": [
    "#### Instrukcja `pass`\n",
    "Nie ma ograniczenia odnośnie liczby instrukcji w bloku, ale musi występować co najmniej jedna. Jeżeli nie mamy nic do zrobienia w danym bloku stosujemy instrukcję `pass`.\n",
    "\n",
    "Instrukcja `pass`:\n",
    "- nie robi nic…\n",
    "- może być użyta w miejscu gdzie wymaga tego syntaktyka, ale program nie robi nic\n",
    "- zwykle używane gdy tworzona jest minimalna klasa\n",
    "- używana również podczas pisania nowego kodu w miejscu, gdzie w przyszłości planujemy wywołać jakąś funkcję lub wyrażenie. "
   ]
  },
  {
   "cell_type": "code",
   "execution_count": 86,
   "metadata": {},
   "outputs": [],
   "source": [
    "a = 3\n",
    "b = 4\n",
    "if a < b:  # gdy warunek prawdziwy\n",
    "    pass   # nic nie rób \n",
    "else:      # gdy warunek fałszywy\n",
    "    print(a-b)"
   ]
  },
  {
   "cell_type": "markdown",
   "metadata": {
    "deletable": false,
    "editable": false,
    "nbgrader": {
     "cell_type": "markdown",
     "checksum": "24c4096db5874d11bad8f7bce7d60503",
     "grade": false,
     "grade_id": "cell-6b2e86786fc58f97",
     "locked": true,
     "schema_version": 3,
     "solution": false
    }
   },
   "source": [
    "#### Operatory `and`, `or` i `not`\n",
    "Używając operatorów `and`, `or` i `not` tworzymy wyrażenia boolowskie."
   ]
  },
  {
   "cell_type": "code",
   "execution_count": 87,
   "metadata": {},
   "outputs": [
    {
     "name": "stdout",
     "output_type": "stream",
     "text": [
      "10 10; 10 10\n"
     ]
    }
   ],
   "source": [
    "# warunkiem może być dowolne wyrażenie zwracające True lub False\n",
    "a = 10\n",
    "if a < 20 and a >5 :\n",
    "    print(a, a, end='; ')\n",
    "    \n",
    "# to samo mozemy zapisać prościej\n",
    "if 5 < a < 20:\n",
    "    print(a, a)"
   ]
  },
  {
   "cell_type": "markdown",
   "metadata": {
    "deletable": false,
    "editable": false,
    "nbgrader": {
     "cell_type": "markdown",
     "checksum": "e6bf4db6cebb474eea1a7209bc5e430a",
     "grade": false,
     "grade_id": "cell-17a9e1167f23ea53",
     "locked": true,
     "schema_version": 3,
     "solution": false
    }
   },
   "source": [
    "#### Łańcuchowa instrukcja warunkowa \n",
    "Do sprawdzenia wielu różnych warunków używamy instrukcji `elif`. Każdy warunek jest kolejno sprawdzany do momentu, aż dany warunek jest prawdziwy. Klauzula `else` nie jest obowiązkowa. Jeżeli klauzula `else` występuje musi znależć się na końcu."
   ]
  },
  {
   "cell_type": "code",
   "execution_count": 88,
   "metadata": {},
   "outputs": [
    {
     "name": "stdout",
     "output_type": "stream",
     "text": [
      "80\n"
     ]
    }
   ],
   "source": [
    "a = 10\n",
    "b = 8\n",
    "if a < b:       # gdy warunek prawdziwy\n",
    "    print(a+b) \n",
    "elif a < 2*b:   # kolejny warunek gdy poprzedni nie jest spełniony\n",
    "    print(a*b)    \n",
    "else:           # gdy warunek fałszywy\n",
    "    print(a-b)"
   ]
  },
  {
   "cell_type": "markdown",
   "metadata": {
    "deletable": false,
    "editable": false,
    "nbgrader": {
     "cell_type": "markdown",
     "checksum": "ef1e152550bcd838a65a6aa0b650818f",
     "grade": false,
     "grade_id": "cell-18d496a2aa016f51",
     "locked": true,
     "schema_version": 3,
     "solution": false
    }
   },
   "source": [
    "#### Zagnieżdżona instrukcja warunkowa \n",
    "Jedna instrukcja warunkowa może zostać zagnieżdżona w drugiej. __Uwaga na wcięcia!__."
   ]
  },
  {
   "cell_type": "code",
   "execution_count": 92,
   "metadata": {},
   "outputs": [
    {
     "name": "stdout",
     "output_type": "stream",
     "text": [
      "a większe od b\n"
     ]
    }
   ],
   "source": [
    "a = 10\n",
    "b = 8\n",
    "if a == b:     # gdy warunek prawdziwy\n",
    "    print('a i b są równe') \n",
    "else:          # gdy warunek fałszywy\n",
    "    if a < b:  #zagnieżdżenie - gdy warunek prawdziwy\n",
    "        print('a mniejsze od b')\n",
    "    else:      #zagnieżdżenie - gdy warunek fałszywy\n",
    "        print('a większe od b')"
   ]
  },
  {
   "cell_type": "markdown",
   "metadata": {
    "deletable": false,
    "editable": false,
    "nbgrader": {
     "cell_type": "markdown",
     "checksum": "9a4faf6f42f74d40349db43cc8820114",
     "grade": false,
     "grade_id": "cell-d9dba951fefaed0b",
     "locked": true,
     "schema_version": 3,
     "solution": false
    }
   },
   "source": [
    "### Wyjątki - Przerwanie działania programu\n",
    "Zgłoszenie wyjątku oznacza wystąpienie błędu i przerwanie normalnego wykonywania programu. Aby przerwać działanie programu (zgłosić wyjątek) można użyć instrukcji `raise`. Argumentem instrukcji `raise` jest rodzaj błędu (wyjątku). Jeżeli nie podamy żadnego argumentu do instrukcji `raise` zostanie ponownie zgłoszony ostatni wyjątek. Więcej informacji przy omawianiu obsługi wyjatków :). \n",
    "\n",
    "#### Przykład: \n",
    "Wczytaj z klawiatury liczbę całkowitą. Jeżeli wartość liczby wynosi 1 wypisz komunikat \"Błąd\" i zakończ działanie programu, w przeciwnym wypadku wypisz jej wartość."
   ]
  },
  {
   "cell_type": "code",
   "execution_count": 95,
   "metadata": {},
   "outputs": [
    {
     "name": "stdout",
     "output_type": "stream",
     "text": [
      "podaj liczbę całkowitą: 1\n",
      "Błąd\n"
     ]
    },
    {
     "ename": "NotImplementedError",
     "evalue": "",
     "output_type": "error",
     "traceback": [
      "\u001b[1;31m---------------------------------------------------------------------------\u001b[0m",
      "\u001b[1;31mNotImplementedError\u001b[0m                       Traceback (most recent call last)",
      "\u001b[1;32m<ipython-input-95-e3d9c4442d08>\u001b[0m in \u001b[0;36m<module>\u001b[1;34m\u001b[0m\n\u001b[0;32m      3\u001b[0m \u001b[1;32mif\u001b[0m \u001b[0mi\u001b[0m \u001b[1;33m==\u001b[0m \u001b[1;36m1\u001b[0m\u001b[1;33m:\u001b[0m\u001b[1;33m\u001b[0m\u001b[1;33m\u001b[0m\u001b[0m\n\u001b[0;32m      4\u001b[0m     \u001b[0mprint\u001b[0m\u001b[1;33m(\u001b[0m\u001b[1;34m'Błąd'\u001b[0m\u001b[1;33m)\u001b[0m\u001b[1;33m\u001b[0m\u001b[1;33m\u001b[0m\u001b[0m\n\u001b[1;32m----> 5\u001b[1;33m     \u001b[1;32mraise\u001b[0m \u001b[0mNotImplementedError\u001b[0m\u001b[1;33m\u001b[0m\u001b[1;33m\u001b[0m\u001b[0m\n\u001b[0m\u001b[0;32m      6\u001b[0m \u001b[1;32melse\u001b[0m\u001b[1;33m:\u001b[0m\u001b[1;33m\u001b[0m\u001b[1;33m\u001b[0m\u001b[0m\n\u001b[0;32m      7\u001b[0m     \u001b[0mprint\u001b[0m\u001b[1;33m(\u001b[0m\u001b[0mi\u001b[0m\u001b[1;33m)\u001b[0m\u001b[1;33m\u001b[0m\u001b[1;33m\u001b[0m\u001b[0m\n",
      "\u001b[1;31mNotImplementedError\u001b[0m: "
     ]
    }
   ],
   "source": [
    "i = input('podaj liczbę całkowitą: ')\n",
    "i = int(i)\n",
    "if i == 1:\n",
    "    print('Błąd')\n",
    "    raise NotImplementedError \n",
    "else:\n",
    "    print(i)"
   ]
  },
  {
   "cell_type": "markdown",
   "metadata": {
    "deletable": false,
    "editable": false,
    "nbgrader": {
     "cell_type": "markdown",
     "checksum": "b64503b01f867e45020d04be2458deeb",
     "grade": false,
     "grade_id": "cell-0ba082502edaa23d",
     "locked": true,
     "schema_version": 3,
     "solution": false
    }
   },
   "source": [
    "### Ćwiczenie 6a\n",
    "Napisz program, który dla podanego z klawiatury numeru miesiąca wyprowadzi odpowiadającą mu porę roku, a jeśli podana wartość nie jest numerem miesiąca, to wyprowadzi kilka znaków zapytania."
   ]
  },
  {
   "cell_type": "code",
   "execution_count": 108,
   "metadata": {
    "deletable": false,
    "nbgrader": {
     "cell_type": "code",
     "checksum": "fae0870d5bedb403426322cc8b6d28ca",
     "grade": false,
     "grade_id": "cell-190c8efc73abafa3",
     "locked": false,
     "schema_version": 3,
     "solution": true,
     "task": false
    }
   },
   "outputs": [
    {
     "name": "stdout",
     "output_type": "stream",
     "text": [
      "Podaj numer miesiąca: 2\n",
      "Zima\n"
     ]
    }
   ],
   "source": [
    "m = input('Podaj numer miesiąca: ')\n",
    "\n",
    "# YOUR CODE HERE\n",
    "m = int(m)\n",
    "if(0 < m < 3 or m == 12):\n",
    "    print(\"Zima\")\n",
    "elif(3 <= m <= 5):\n",
    "    print(\"Wiosna\")\n",
    "elif(6 <= m <= 8):\n",
    "    print(\"Lato\")\n",
    "elif(9 <= m <= 11):\n",
    "    print(\"Jesień\")\n",
    "else:\n",
    "    print(\"???\")\n",
    "#raise NotImplementedError()"
   ]
  },
  {
   "cell_type": "markdown",
   "metadata": {
    "deletable": false,
    "editable": false,
    "nbgrader": {
     "cell_type": "markdown",
     "checksum": "867d264a9482b8de74dde12059b8c6e6",
     "grade": false,
     "grade_id": "cell-39372ea79de47575",
     "locked": true,
     "schema_version": 3,
     "solution": false
    }
   },
   "source": [
    "### Pętle: `while`, `for`\n",
    "W Pythonie mamy kilka rodzajów petli. Zawartość bloków instrukcji ustalana jest na podstawie wcięć.\n",
    "\n",
    "### Pętla `while`\n",
    "Struktura składni ma postać:\n",
    "\n",
    "```python\n",
    "while warunek:\n",
    "\tinstrukcje\n",
    "```\n",
    "Określ czy warunek jest `True` lub `False`. Jeżeli jest fałszywy zakończ instrukcję `while` i przejdź dalej. Jeżeli warunek prawdziwy wykonaj `instrukcje` i znowu sprawdź warunek. Zawartość bloku instrukcji ustalana jest na podstawie wcięć."
   ]
  },
  {
   "cell_type": "code",
   "execution_count": 109,
   "metadata": {},
   "outputs": [
    {
     "name": "stdout",
     "output_type": "stream",
     "text": [
      "0 1 2 3 4 5 6 7 8 9 "
     ]
    }
   ],
   "source": [
    "i=0\n",
    "while i < 10: #sprawdź warunek, jeżeli True wykonuj instrukcje w bloku i znowu sprawdź warunek\n",
    "    print(i, end=' ') \n",
    "    i=i+1  # mozna krócej i+=1, Uwaga: nie ma czegoś takiego jak w C: i++"
   ]
  },
  {
   "cell_type": "markdown",
   "metadata": {
    "deletable": false,
    "editable": false,
    "nbgrader": {
     "cell_type": "markdown",
     "checksum": "efce9b78de60837b85c98a0c431a6d4e",
     "grade": false,
     "grade_id": "cell-bd9c59931078ffbb",
     "locked": true,
     "schema_version": 3,
     "solution": false
    }
   },
   "source": [
    "### Pętla `for`\n",
    "Pętla `for` w języku Python działa jak pętla `foreach` w niektórych innych językach i składa się z dwóch słów kluczowych `for` oraz `in`. \n",
    "\n",
    "Struktura składni ma postać:\n",
    "```python\n",
    "for zmienna in zbiór_wartości:\n",
    "\tinstrukcje\n",
    "```\n",
    "Wykonuje iteracje po wszystkich elementach zbioru (napis, lista, tupla, słownik)."
   ]
  },
  {
   "cell_type": "code",
   "execution_count": 110,
   "metadata": {},
   "outputs": [
    {
     "name": "stdout",
     "output_type": "stream",
     "text": [
      "1 2 6 7 "
     ]
    }
   ],
   "source": [
    "for i in [1,2,6,7]:\n",
    "    print(i, end=' ')"
   ]
  },
  {
   "cell_type": "markdown",
   "metadata": {
    "deletable": false,
    "editable": false,
    "nbgrader": {
     "cell_type": "markdown",
     "checksum": "626093e2418274f126130b6e139547f6",
     "grade": false,
     "grade_id": "cell-f3471bc89b45760d",
     "locked": true,
     "schema_version": 3,
     "solution": false
    }
   },
   "source": [
    "Iterować można nie tylko po listach, ale po wszystkim co posiada jakieś elementy np. tekstach."
   ]
  },
  {
   "cell_type": "code",
   "execution_count": 111,
   "metadata": {},
   "outputs": [
    {
     "name": "stdout",
     "output_type": "stream",
     "text": [
      "i n f o r m a t y k a "
     ]
    }
   ],
   "source": [
    "for litera in 'informatyka':\n",
    "    print(litera, end=' ')"
   ]
  },
  {
   "cell_type": "markdown",
   "metadata": {
    "deletable": false,
    "editable": false,
    "nbgrader": {
     "cell_type": "markdown",
     "checksum": "680a2f6c386ea789e74aebbbee102e7c",
     "grade": false,
     "grade_id": "cell-a87a1b17998c28c7",
     "locked": true,
     "schema_version": 3,
     "solution": false
    }
   },
   "source": [
    "### Funkcja `range`\n",
    "Przydatnym obiektem przy używaniu pętli jest obiekt `range()`. Funkcja `range()` tworzy listę wartości z przedziału określonego przez trzy argumenty: poczatek, koniec, przyrost."
   ]
  },
  {
   "cell_type": "code",
   "execution_count": 112,
   "metadata": {},
   "outputs": [
    {
     "data": {
      "text/plain": [
       "range(0, 100)"
      ]
     },
     "execution_count": 112,
     "metadata": {},
     "output_type": "execute_result"
    }
   ],
   "source": [
    "range(100)  # generator przedziału liczb całkowitych od 0 do 99 (100 elementow)"
   ]
  },
  {
   "cell_type": "code",
   "execution_count": 113,
   "metadata": {},
   "outputs": [
    {
     "data": {
      "text/plain": [
       "range(5, 80)"
      ]
     },
     "execution_count": 113,
     "metadata": {},
     "output_type": "execute_result"
    }
   ],
   "source": [
    "range(5,80)  # generator przedziału liczb całkowitych od 5 do 79"
   ]
  },
  {
   "cell_type": "code",
   "execution_count": 114,
   "metadata": {},
   "outputs": [
    {
     "data": {
      "text/plain": [
       "range(5, 80, 2)"
      ]
     },
     "execution_count": 114,
     "metadata": {},
     "output_type": "execute_result"
    }
   ],
   "source": [
    "range(5, 80, 2) # generator przedziału  liczb całkowitych od 5 do 79 z krokiem 2"
   ]
  },
  {
   "cell_type": "code",
   "execution_count": 120,
   "metadata": {},
   "outputs": [
    {
     "name": "stdout",
     "output_type": "stream",
     "text": [
      "5 8 11 14 17 20 23 26 29 32 35 38 41 44 47 50 53 56 59 62 65 68 71 74 77 80 83 86 89 92 95 98 "
     ]
    }
   ],
   "source": [
    "for el in range(5,99,3):\n",
    "    print(el, end=' ')"
   ]
  },
  {
   "cell_type": "markdown",
   "metadata": {
    "deletable": false,
    "editable": false,
    "nbgrader": {
     "cell_type": "markdown",
     "checksum": "acb18651057543a98eef3c68104eea8c",
     "grade": false,
     "grade_id": "cell-5bffeee8d09e50a5",
     "locked": true,
     "schema_version": 3,
     "solution": false
    }
   },
   "source": [
    "### Funkcja enumerate\n",
    "Równie przydatne jest słowo kluczowe `enumerate`, które dodaje do obiektu iterowanego pozycje elementów"
   ]
  },
  {
   "cell_type": "code",
   "execution_count": 121,
   "metadata": {},
   "outputs": [
    {
     "data": {
      "text/plain": [
       "<enumerate at 0x180c0399840>"
      ]
     },
     "execution_count": 121,
     "metadata": {},
     "output_type": "execute_result"
    }
   ],
   "source": [
    "enumerate(['a','b','c'])  # z listy ['a','b','c'] otrzymujemu liste postaci [(0,'a'), (1,'b'), (2,'c')]"
   ]
  },
  {
   "cell_type": "code",
   "execution_count": 122,
   "metadata": {},
   "outputs": [
    {
     "name": "stdout",
     "output_type": "stream",
     "text": [
      "0 a\n",
      "1 b\n",
      "2 c\n"
     ]
    }
   ],
   "source": [
    "abc = ['a','b','c']\n",
    "for index, element in enumerate(abc):\n",
    "    print(index, element)"
   ]
  },
  {
   "cell_type": "code",
   "execution_count": 123,
   "metadata": {},
   "outputs": [
    {
     "name": "stdout",
     "output_type": "stream",
     "text": [
      "1 1 3\n",
      "2 1 3\n",
      "3 1 3\n"
     ]
    }
   ],
   "source": [
    "# możliwe jest również coś takiego \n",
    "abc = [[1,1,3],[2,1,3],[3,1,3]]\n",
    "for x, y, z in abc:\n",
    "    print(x,y,z)"
   ]
  },
  {
   "cell_type": "markdown",
   "metadata": {},
   "source": [
    "### Przerywanie pętli lub pomijanie iteracji, słowa kluczowe `break`, `continue`, `else`"
   ]
  },
  {
   "cell_type": "code",
   "execution_count": 124,
   "metadata": {},
   "outputs": [
    {
     "name": "stdout",
     "output_type": "stream",
     "text": [
      "0 1 2 3 4 5 6 7 8 9 10 "
     ]
    }
   ],
   "source": [
    "# przerywanie pętli while\n",
    "i=0\n",
    "while True:\n",
    "    print(i, end=' ')\n",
    "    i+=1\n",
    "    if i>10:\n",
    "        break  #przerwanie"
   ]
  },
  {
   "cell_type": "code",
   "execution_count": 125,
   "metadata": {},
   "outputs": [
    {
     "name": "stdout",
     "output_type": "stream",
     "text": [
      "_ 1 2 _ 4 5 _ 7 8 _ 10 "
     ]
    }
   ],
   "source": [
    "# pomijanie iteracji w pętli while\n",
    "i=0\n",
    "while True:\n",
    "    if i % 3 == 0:\n",
    "        i+=1\n",
    "        print('_', end=' ')\n",
    "        continue #przejście do następnej iteracji\n",
    "    print(i, end=' ')\n",
    "    i+=1\n",
    "    if i>10:\n",
    "        break    #przerwanie"
   ]
  },
  {
   "cell_type": "code",
   "execution_count": 126,
   "metadata": {},
   "outputs": [
    {
     "name": "stdout",
     "output_type": "stream",
     "text": [
      "0 1 4 9 16 25 36 49 64 81 100 121 144 169 196 225 256 289 324 361 400 441 484 529 576 625 676 729 784 841 900 961 1024 1089 1156 1225 1296 1369 1444 1521 1600 1681 1764 1849 1936 2025 2116 2209 2304 2401 2500 2601 2704 2809 2916 3025 3136 3249 3364 3481 3600 3721 3844 3969 4096 "
     ]
    }
   ],
   "source": [
    "# przerwanie pętli for\n",
    "for i in range(100):\n",
    "    print(i*i, end=' ')\n",
    "    if i*i > 4000:\n",
    "        break    #przerwanie"
   ]
  },
  {
   "cell_type": "code",
   "execution_count": 127,
   "metadata": {},
   "outputs": [
    {
     "name": "stdout",
     "output_type": "stream",
     "text": [
      "0 1 4 9 16 25 _ _ _ _ _ _ _ _ _ _ _ _ _ _ _ _ _ _ _ 625 676 729 784 841 900 961 1024 1089 1156 1225 1296 1369 1444 1521 1600 1681 1764 1849 1936 2025 2116 2209 2304 2401 2500 2601 2704 2809 2916 3025 3136 3249 3364 3481 3600 3721 3844 3969 4096 "
     ]
    }
   ],
   "source": [
    "# pomijanie iteracji w pętli for\n",
    "for i in range(100):\n",
    "    if 5 < i < 25:\n",
    "        print('_', end=' ')\n",
    "        continue #przejście do następnej iteracji\n",
    "    print(i*i, end=' ')\n",
    "    if i*i > 4000:\n",
    "        break    #przerwanie"
   ]
  },
  {
   "cell_type": "markdown",
   "metadata": {
    "deletable": false,
    "editable": false,
    "nbgrader": {
     "cell_type": "markdown",
     "checksum": "329fd8385af314e808c3171838c3247d",
     "grade": false,
     "grade_id": "cell-154f0e607ff713d2",
     "locked": true,
     "schema_version": 3,
     "solution": false,
     "task": false
    }
   },
   "source": [
    "W pętlach można używać klauzuli `else` która jest wykonywana gdy wyczerpane zostaną elementy po których iterujemy (pętla `for`) lub gdy warunek przyjmie wartość negatywną dla pętli `while` (nie dotyczy to przypadków gdy wyjście z pętli spowodowane jest przez `break`)"
   ]
  },
  {
   "cell_type": "code",
   "execution_count": 128,
   "metadata": {},
   "outputs": [
    {
     "name": "stdout",
     "output_type": "stream",
     "text": [
      "2 jest liczbą pierwszą\n",
      "3 jest liczbą pierwszą\n",
      "4 równa się 2 * 2\n",
      "5 jest liczbą pierwszą\n",
      "6 równa się 2 * 3\n",
      "7 jest liczbą pierwszą\n",
      "8 równa się 2 * 4\n",
      "9 równa się 3 * 3\n",
      "10 równa się 2 * 5\n"
     ]
    }
   ],
   "source": [
    "# użycie klauzuli else w pętli for\n",
    "for liczba in range(2,11):\n",
    "    for i in range(2,liczba):\n",
    "        if liczba%i == 0:\n",
    "            print(liczba,'równa się',i,'*',liczba//i)\n",
    "            break    #przerwanie\n",
    "    else:\n",
    "        # wyjście z pętli bez znalezienia dzielnika\n",
    "        print(liczba,'jest liczbą pierwszą')     "
   ]
  },
  {
   "cell_type": "markdown",
   "metadata": {
    "deletable": false,
    "editable": false,
    "nbgrader": {
     "cell_type": "markdown",
     "checksum": "d90e3f31cddae3ac1cfbfb32df5e1cbc",
     "grade": false,
     "grade_id": "cell-5942d837e637b587",
     "locked": true,
     "schema_version": 3,
     "solution": false
    }
   },
   "source": [
    "### Ćwiczenie 7a\n",
    "Wyznacz średnią arytmetyczną liczb naturalnych $v$ mniejszych lub równych od zadanej liczby naturalnej $k$, $k\\geq2$ i spełniających warunek:\n",
    "$$ \\frac{v^{2}}{2}-v \\geq k$$ \n",
    "$$v=1,2, ...k$$"
   ]
  },
  {
   "cell_type": "code",
   "execution_count": null,
   "metadata": {
    "deletable": false,
    "nbgrader": {
     "cell_type": "code",
     "checksum": "9b62c6a5a9b6ad6e26f941313d438a8e",
     "grade": false,
     "grade_id": "cell-7530aa043efb6088",
     "locked": false,
     "schema_version": 3,
     "solution": true,
     "task": false
    }
   },
   "outputs": [],
   "source": [
    "import math\n",
    "k = input('Podaj k = ')\n",
    "\n",
    "# YOUR CODE HERE\n",
    "k = int(k)\n",
    "if(k < 2):\n",
    "    print(\"Błędna wartość liczby k!\")\n",
    "    raise ArithmeticError\n",
    "\n",
    "v = 0\n",
    "i = 0\n",
    "for liczba_naturalna in range(1, k+1):\n",
    "    if(liczba_naturalna**2/2 -liczba_naturalna >= k):\n",
    "        v+=liczba_naturalna\n",
    "        i+=1\n",
    "if(i != 0):\n",
    "    v=v/i\n",
    "\n",
    "print(v)\n",
    "# raise NotImplementedError()"
   ]
  },
  {
   "cell_type": "markdown",
   "metadata": {
    "deletable": false,
    "editable": false,
    "nbgrader": {
     "cell_type": "markdown",
     "checksum": "d7760a40301369c42c02f82ef44a4427",
     "grade": false,
     "grade_id": "cell-3e73d41a914dfc5d",
     "locked": true,
     "schema_version": 3,
     "solution": false
    }
   },
   "source": [
    "## Zadanie 1a\n",
    "Napisz program, który obliczy pole oraz objętość torusa. Użyj stałej $\\pi$ z biblioteki `math`.\n",
    "\n",
    "https://pl.wikipedia.org/wiki/Torus_(matematyka)"
   ]
  },
  {
   "cell_type": "code",
   "execution_count": 11,
   "metadata": {
    "deletable": false,
    "nbgrader": {
     "cell_type": "code",
     "checksum": "15ab28db29755187a05ad6d159390072",
     "grade": true,
     "grade_id": "cell-99aa0016d90ebf26",
     "locked": false,
     "points": 1,
     "schema_version": 3,
     "solution": true
    }
   },
   "outputs": [
    {
     "name": "stdout",
     "output_type": "stream",
     "text": [
      "Podaj promień okręgu definującego torus: \n",
      "5\n",
      "Podaj odległość środka okręgu od osi obrotu: \n",
      "15\n",
      "Pole powierchni = 2960.881320 Objetość = 7402.203301\n"
     ]
    }
   ],
   "source": [
    "import math\n",
    "\n",
    "print('Podaj promień okręgu definującego torus: ')\n",
    "r = input()\n",
    "print('Podaj odległość środka okręgu od osi obrotu: ')\n",
    "R = input()\n",
    "# YOUR CODE HERE\n",
    "r = float(r)\n",
    "R = float(R)\n",
    "S = 4.0*(math.pi**2.0)*R*r\n",
    "V = 2.0*(math.pi**2.0)*R*(r**2)\n",
    "print(\"Pole powierchni = %f\" % S, \"Objetość = %f\" % V)\n",
    "# raise NotImplementedError()"
   ]
  },
  {
   "cell_type": "markdown",
   "metadata": {
    "deletable": false,
    "editable": false,
    "nbgrader": {
     "cell_type": "markdown",
     "checksum": "2804971ed8a041b52d99d96b65450835",
     "grade": false,
     "grade_id": "cell-aeecbd849dd010c3",
     "locked": true,
     "schema_version": 3,
     "solution": false
    }
   },
   "source": [
    "## Zadanie 2a\n",
    "Napisz program, który zaokrągli podaną liczbę w górę do podanej liczby miejsc po przecinku."
   ]
  },
  {
   "cell_type": "code",
   "execution_count": 11,
   "metadata": {
    "deletable": false,
    "nbgrader": {
     "cell_type": "code",
     "checksum": "089c8bceebc37f7828a0f60f27787550",
     "grade": true,
     "grade_id": "cell-5f90b4090ae915a9",
     "locked": false,
     "points": 1,
     "schema_version": 3,
     "solution": true
    }
   },
   "outputs": [
    {
     "name": "stdout",
     "output_type": "stream",
     "text": [
      "Podaj liczbę: \n",
      "0.000001\n",
      "Podaj liczbę miejsc po przecinku: \n",
      "1\n",
      "0.1\n"
     ]
    }
   ],
   "source": [
    "import math\n",
    "\n",
    "print('Podaj liczbę: ')\n",
    "liczba = input()\n",
    "print('Podaj liczbę miejsc po przecinku: ')\n",
    "miejsca = input()\n",
    "# YOUR CODE HERE\n",
    "liczba = float(liczba)\n",
    "potega = 10**int(miejsca)\n",
    "print(math.ceil(liczba*(potega))/potega)\n",
    "# raise NotImplementedError()"
   ]
  },
  {
   "cell_type": "markdown",
   "metadata": {
    "deletable": false,
    "editable": false,
    "nbgrader": {
     "cell_type": "markdown",
     "checksum": "a78bb6e79536a5e67f7b86206d58f3d1",
     "grade": false,
     "grade_id": "cell-8c114cde9f472c41",
     "locked": true,
     "schema_version": 3,
     "solution": false
    }
   },
   "source": [
    "## Zadanie 3a\n",
    "Dana jest liczba $i$ typu `int` oraz liczba $x$ typu `float`. Wyprowadź wartości tych liczb w formatach jak pokazano na przykładzie poniżej (10 pól):\n",
    "\n",
    "```\n",
    "Podaj liczbę całkowią i = 1\n",
    "Podaj liczbę rzeczywistą x = 2.5\n",
    "\n",
    "Formaty przekształcenia dla liczb całkowitych:\n",
    "i |1|\n",
    "i |         1|\n",
    "i |        +1|\n",
    "i |1         |\n",
    "i |0000000001|\n",
    "i |     00001|\n",
    "\n",
    "Formaty przekształcenia dla liczb rzeczywistych:\n",
    "x |2.5|\n",
    "x |       2.5|\n",
    "x |   +2.5000|\n",
    "x |2.5000    |\n",
    "x |00002.5000|\n",
    "x |2.5000e+00|\n",
    "```\n"
   ]
  },
  {
   "cell_type": "code",
   "execution_count": 45,
   "metadata": {
    "deletable": false,
    "nbgrader": {
     "cell_type": "code",
     "checksum": "aa15332b58b9784a501c4611f7b75806",
     "grade": true,
     "grade_id": "cell-4eaff50991eca65f",
     "locked": false,
     "points": 1,
     "schema_version": 3,
     "solution": true
    }
   },
   "outputs": [
    {
     "name": "stdout",
     "output_type": "stream",
     "text": [
      "Podaj liczbę całkowią i = 1\n",
      "Podaj liczbę rzeczywistą x = 2.5\n",
      "\n",
      "i |1|\n",
      "i |         1|\n",
      "i |        +1|\n",
      "i |1         |\n",
      "i |0000000001|\n",
      "i |     00001|\n",
      "\n",
      "x |2.5|\n",
      "x |       2.5|\n",
      "x |   +2.5000|\n",
      "x |2.5000    |\n",
      "x |00002.5000|\n",
      "x |2.5000e+00|\n"
     ]
    }
   ],
   "source": [
    "i = input('Podaj liczbę całkowią i = ')\n",
    "x = input('Podaj liczbę rzeczywistą x = ')\n",
    "# YOUR CODE HERE\n",
    "def integer(i:str):\n",
    "    i = int(i)\n",
    "    print()\n",
    "    print(\"i |%d|\" % i)\n",
    "    print(\"i |%10d|\" % i)\n",
    "    print(\"i |%+10d|\" % i)\n",
    "    print(\"i |%-10d|\" % i)\n",
    "    print(\"i |%010d|\" % i)\n",
    "    print(\"i |%5c%05d|\" % (' ',i))\n",
    "\n",
    "def real(x:str):\n",
    "    x = float(x)\n",
    "    print()\n",
    "    print(\"x |%.1f|\" % x)\n",
    "    print(\"x |%10.1f|\" % x)\n",
    "    print(\"x |%+10.4f|\" % x)\n",
    "    print(\"x |%-10.4f|\" % x)\n",
    "    print(\"x |%010.4f|\" % x)\n",
    "    print(\"x |%-.4e|\" % x)\n",
    "\n",
    "integer(i)\n",
    "real(x)\n",
    "# raise NotImplementedError()"
   ]
  },
  {
   "cell_type": "markdown",
   "metadata": {
    "deletable": false,
    "editable": false,
    "nbgrader": {
     "cell_type": "markdown",
     "checksum": "c9e41ef603bc1cd1e4173c8f1adb6323",
     "grade": false,
     "grade_id": "cell-01780820da67534f",
     "locked": true,
     "schema_version": 3,
     "solution": false
    }
   },
   "source": [
    "## Zadanie 4a\n",
    "Napisz program, który we wprowadzonym tekście wyeliminuje wszystkie samogłoski i w ich miejsce wstawi podany przez użytkownika znak. Wypisz na ekran tekst po zmianie oraz liczbę zamienionych liter."
   ]
  },
  {
   "cell_type": "code",
   "execution_count": 11,
   "metadata": {
    "deletable": false,
    "nbgrader": {
     "cell_type": "code",
     "checksum": "ad3981b027f45b71fbce509fdd153f70",
     "grade": true,
     "grade_id": "cell-a4a3a6d6013148c5",
     "locked": false,
     "points": 1,
     "schema_version": 3,
     "solution": true
    }
   },
   "outputs": [
    {
     "name": "stdout",
     "output_type": "stream",
     "text": [
      "Wprowadź tekst: a,ą,e,ę,i,o,u,y   a,ą,e,ę,i,o,u,y i takie cuś na końcu\n",
      "Wprowadź znak: #\n",
      "#,#,#,#,#,#,#,#   #,#,#,#,#,#,#,# # t#k## c#ś n# k#ńc#\n",
      "24\n"
     ]
    }
   ],
   "source": [
    "text = input('Wprowadź tekst: ')\n",
    "znak = input('Wprowadź znak: ')\n",
    "# YOUR CODE HERE\n",
    "samogloski=\"a,ą,e,ę,i,o,u,y\"\n",
    "samogloski = samogloski.split(',')\n",
    "licznik = 0\n",
    "\n",
    "for samogloska in samogloski:\n",
    "    licznik += text.count(samogloska)\n",
    "    text = text.replace(samogloska, znak)\n",
    "print(text)\n",
    "print(licznik)\n",
    "# raise NotImplementedError()"
   ]
  },
  {
   "cell_type": "markdown",
   "metadata": {
    "deletable": false,
    "editable": false,
    "nbgrader": {
     "cell_type": "markdown",
     "checksum": "ad8d819ed0242e5c67446db1999a9b93",
     "grade": false,
     "grade_id": "cell-aeecbd849dd010c3c4",
     "locked": true,
     "schema_version": 3,
     "solution": false
    }
   },
   "source": [
    "## Zadanie 5a\n",
    "Dane są dwa teksty. Napisz program, który dołączy fragment tekstu pierwszego od znaku o podanej pozycji na koniec tekstu drugiego oraz poda liczbę słów w nowo utworzonym tekscie. Zakładamy, że słowa rozdziela spacja `(' ')`."
   ]
  },
  {
   "cell_type": "code",
   "execution_count": 16,
   "metadata": {
    "deletable": false,
    "nbgrader": {
     "cell_type": "code",
     "checksum": "737266f90c3bc605e2eff6c6b778a39f",
     "grade": true,
     "grade_id": "cell-5f90b4090ae915a1",
     "locked": false,
     "points": 1,
     "schema_version": 3,
     "solution": true
    }
   },
   "outputs": [
    {
     "name": "stdout",
     "output_type": "stream",
     "text": [
      "Wprowadź tekst_1: tekst na końcu\n",
      "Wprowadź tekst_2: Tekst na początku ze spacją \n",
      "Podaj pozycję znaku w tekst_1: 0\n",
      "Tekst na początku ze spacją tekst na końcu\n",
      "8\n"
     ]
    }
   ],
   "source": [
    "text_1 = input('Wprowadź tekst_1: ')\n",
    "text_2 = input('Wprowadź tekst_2: ')\n",
    "p = input('Podaj pozycję znaku w tekst_1: ')\n",
    "# YOUR CODE HERE\n",
    "text_1 = text_1[int(p)::]\n",
    "text_2 = text_2 + text_1\n",
    "words = text_2.split()\n",
    "print(text_2, len(words), sep=\"\\n\")\n",
    "# raise NotImplementedError()"
   ]
  },
  {
   "cell_type": "markdown",
   "metadata": {
    "deletable": false,
    "editable": false,
    "nbgrader": {
     "cell_type": "markdown",
     "checksum": "3afb68914399173f0aed1a486ceb3c70",
     "grade": false,
     "grade_id": "cell-093f3217226d4abc",
     "locked": true,
     "schema_version": 3,
     "solution": false
    }
   },
   "source": [
    "## Zadanie 6a\n",
    "Dany jest przedział $[p1,p2]$ liczb naturalnych oraz liczba naturalna $p$ z jego wnętrza. Utwórz sumę liczb naturalnych z przedziału $<p1,p>$ oraz iloczyn pozostałych liczb."
   ]
  },
  {
   "cell_type": "code",
   "execution_count": 29,
   "metadata": {
    "deletable": false,
    "nbgrader": {
     "cell_type": "code",
     "checksum": "cffcb3ea5c2ea475d86f605d16f6a0a1",
     "grade": true,
     "grade_id": "cell-bcdcb194e012da23",
     "locked": false,
     "points": 1,
     "schema_version": 3,
     "solution": true
    }
   },
   "outputs": [
    {
     "name": "stdout",
     "output_type": "stream",
     "text": [
      "sum =  6 product =  6720\n"
     ]
    }
   ],
   "source": [
    "# wprowadz p1\n",
    "p1 = 1\n",
    "# wprowadz p2\n",
    "p2 = 8\n",
    "# wprowadz p\n",
    "p = 3\n",
    "\n",
    "# YOUR CODE HERE\n",
    "sum = 0\n",
    "product = 1\n",
    "for l_n in range(p1, p+1, 1):\n",
    "    sum+=l_n\n",
    "for l_n in range(p+1, p2+1, 1):\n",
    "    product*=l_n\n",
    "\n",
    "print('sum = ', sum, 'product = ', product)\n",
    "# raise NotImplementedError()"
   ]
  },
  {
   "cell_type": "markdown",
   "metadata": {
    "deletable": false,
    "editable": false,
    "nbgrader": {
     "cell_type": "markdown",
     "checksum": "9fd682c571e047539af7c234ac56d35b",
     "grade": false,
     "grade_id": "cell-21a9c5df44cff69g",
     "locked": true,
     "schema_version": 3,
     "solution": false
    }
   },
   "source": [
    "## Zadanie 7a\n",
    "Napisz program, który pyta użytkownika o dzień tygodnia. Program powinien wypisywać opinię autora o podanym dniu tygodnia. Jeśli użytkownik poda zły dzień (np. poda niepoprawnie jego nazwę), program powinien upomnieć użytkownika, oraz zapytać ponownie. Jeśli użytkownik dwa razy poda nieprawidłowy dzień, program powinien wypisać swoją opinię o użytkowniku i zakończyć działanie."
   ]
  },
  {
   "cell_type": "code",
   "execution_count": 57,
   "metadata": {
    "deletable": false,
    "nbgrader": {
     "cell_type": "code",
     "checksum": "8b6032ee48f74e401ce5bfe1ab0fab0a",
     "grade": true,
     "grade_id": "cell-afb64df2a116f3b7",
     "locked": false,
     "points": 1,
     "schema_version": 3,
     "solution": true
    }
   },
   "outputs": [
    {
     "name": "stdout",
     "output_type": "stream",
     "text": [
      "Podaj dzień tygodnia: środa\n",
      "Zjazd się zbliża, pora się pouczyć\n"
     ]
    }
   ],
   "source": [
    "# YOUR CODE HERE\n",
    "attempt = 0\n",
    "while attempt < 2:\n",
    "    attempt+=1\n",
    "    day = input(\"Podaj dzień tygodnia: \").lower()\n",
    "    switcher = {\n",
    "        \"poniedziałek\": \"Zmęczony po weekendie na uczelni\",\n",
    "        \"wtorek\": \"Wreszcie można się wyspać!\",\n",
    "        \"środa\": \"Zjazd się zbliża, pora się pouczyć\",\n",
    "        \"czwartek\": \"Studia coraz bliżej\",\n",
    "        \"piątek\": \"Już spakowany na wyjazd\",\n",
    "        \"sobota\": \"Uczelnie mnie chcę zamordować\",\n",
    "        \"niedziela\": \"Już mam dość\"\n",
    "    }\n",
    "    if(day in switcher):\n",
    "        print(switcher[day])\n",
    "        break\n",
    "    elif(attempt == 1):\n",
    "        print(\"Błędny dzień spróbuj jeszcze raz!\")\n",
    "    elif(attempt == 2):\n",
    "        print(\"Lepiej idź odpocząć... Albo zmień klawiaturę!!!\")\n",
    "    # raise NotImplementedError()"
   ]
  },
  {
   "cell_type": "markdown",
   "metadata": {
    "deletable": false,
    "editable": false,
    "nbgrader": {
     "cell_type": "markdown",
     "checksum": "aa0b9207e249255159668faaf3a4cad5",
     "grade": false,
     "grade_id": "cell-21a9c5df44cff69h",
     "locked": true,
     "schema_version": 3,
     "solution": false
    }
   },
   "source": [
    "## Zadanie 8a\n",
    "Napisz program sprawdzający czy podana przez użytkownika liczba jest pierwsza.\n",
    "\n",
    "https://pl.wikipedia.org/wiki/Liczba_pierwsza"
   ]
  },
  {
   "cell_type": "code",
   "execution_count": 7,
   "metadata": {
    "deletable": false,
    "nbgrader": {
     "cell_type": "code",
     "checksum": "aec9375dd47230a28b79c623bb3625ab",
     "grade": true,
     "grade_id": "cell-afb64df2a116f3b6",
     "locked": false,
     "points": 1,
     "schema_version": 3,
     "solution": true
    }
   },
   "outputs": [
    {
     "name": "stdout",
     "output_type": "stream",
     "text": [
      "Podaj liczbę: 11\n",
      "11 jest liczbą pierwszą.\n"
     ]
    }
   ],
   "source": [
    "# wprowadz liczbę\n",
    "liczba = int(input(\"Podaj liczbę: \"))\n",
    "\n",
    "# YOUR CODE HERE\n",
    "dzielnik = 2\n",
    "czy_pierwsza = True\n",
    "\n",
    "while dzielnik < liczba:\n",
    "    if((liczba % dzielnik) == 0):\n",
    "        czy_pierwsza = False\n",
    "    \n",
    "    dzielnik+=1\n",
    "\n",
    "if czy_pierwsza:\n",
    "    print(\"%d jest liczbą pierwszą.\" % liczba)\n",
    "else:\n",
    "    print(\"%d nie jest liczbą pierwszą.\" % liczba)\n",
    "\n",
    "# raise NotImplementedError()"
   ]
  },
  {
   "cell_type": "markdown",
   "metadata": {
    "deletable": false,
    "editable": false,
    "nbgrader": {
     "cell_type": "markdown",
     "checksum": "b68d0f3e30e61b1c890a5ec71fc25716",
     "grade": false,
     "grade_id": "cell-ebb982ea4195480c",
     "locked": true,
     "schema_version": 3,
     "solution": false,
     "task": false
    }
   },
   "source": [
    "# Temat_1b: \n",
    "## Funkcje. Instrukcje `def`, `lambda`. Argumenty funkcji, wartości domyślne, parametry specjalne, napisy dokumentujące, przypisy do funkcji.\n",
    "Zapoznaj się z treścią niniejszego notatnika czytając i wykonując go komórka po komórce. Wykonaj napotkane zadania/ćwiczenia.\n",
    "\n",
    "### Definiowanie funkcji: Instrukcja `def`\n",
    "#### Składnia.\n",
    "- Struktura składni ma postać:\n",
    "\n",
    "```python\n",
    "def nazwa(argumenty):\n",
    "\tblok_instrukcji\n",
    "    return wyrażenie\n",
    "```    \n",
    "- Do tworzenia funkcji służy instrukcja `def`. \n",
    "- Lista argumentów może być pusta lub składać się z dowolnej ilości argumentów oddzielonych przecinkami. \n",
    "- Zawartość bloku instrukcji ustalana jest na podstawie wcięć. \n",
    "- Instrukcja `return` nie jest obowiązkowa. W przypadku jej braku funkcja zwraca wartość `None` \n",
    "- Wywołanie funkcji odbywa się poprzez podanie jej nazwy z odpowiednią liczbą argumentów.\n",
    "- Funkcja musi być zdefiniowana przed jej pierwszym użyciem.\n",
    "- wywołanie funkcji tworzy nową tablicę symboli przechowującą zmienne lokalne funkcji jak również aktualne argumenty przekazane do funkcji przez referencję\n",
    "\n",
    "https://docs.python.org/3/tutorial/controlflow.html#defining-functions"
   ]
  },
  {
   "cell_type": "code",
   "execution_count": 1,
   "metadata": {},
   "outputs": [
    {
     "name": "stdout",
     "output_type": "stream",
     "text": [
      "Hello\n",
      "Hello\n",
      "None\n"
     ]
    }
   ],
   "source": [
    "def przywitanie():   #definicja funkcji - bez argumentów\n",
    "    print('Hello')\n",
    "    \n",
    "przywitanie()   #wywołanie funkcji\n",
    "a = przywitanie()  #wywołanie z przypisaniem zwracanej wartości\n",
    "print(a)  #funkcja bez return zwaraca obiekt None"
   ]
  },
  {
   "cell_type": "code",
   "execution_count": 2,
   "metadata": {},
   "outputs": [
    {
     "name": "stdout",
     "output_type": "stream",
     "text": [
      "Hello Adam\n",
      "Hello Adam\n",
      "Hello Adam\n"
     ]
    }
   ],
   "source": [
    "def przywitanie_razy_n(n, imie):  #definicja funkcji z 2 argumentami\n",
    "    for i in range(n):\n",
    "        print('Hello', imie)\n",
    "    \n",
    "przywitanie_razy_n(3, 'Adam')   #wywołanie funkcji"
   ]
  },
  {
   "cell_type": "markdown",
   "metadata": {
    "deletable": false,
    "editable": false,
    "nbgrader": {
     "cell_type": "markdown",
     "checksum": "1a1f92414b31eb04b6847dc420ac0b82",
     "grade": false,
     "grade_id": "cell-31703fda083343a1",
     "locked": true,
     "schema_version": 3,
     "solution": false,
     "task": false
    }
   },
   "source": [
    "Funkcja może zwracać wartość, służy do tego instrukcja `return`. Może to być pojedyncza wartość lub wiele wartości w postaci krotki."
   ]
  },
  {
   "cell_type": "code",
   "execution_count": 3,
   "metadata": {},
   "outputs": [
    {
     "name": "stdout",
     "output_type": "stream",
     "text": [
      "2\n"
     ]
    }
   ],
   "source": [
    "def funkcja():  #definicja funkcji\n",
    "    return 2    # wartość zwracana przez funkcję\n",
    "\n",
    "a = funkcja()   # wywołanie funkcji - zwracana pojedyncza wartość\n",
    "print(a)"
   ]
  },
  {
   "cell_type": "code",
   "execution_count": 6,
   "metadata": {},
   "outputs": [
    {
     "name": "stdout",
     "output_type": "stream",
     "text": [
      "(1, 2, 3, 4)\n",
      "1 2 3 4\n"
     ]
    }
   ],
   "source": [
    "def funkcja2():       #definicja funkcji\n",
    "    return 1,2,3,4    #wartości zwracane przez funkcję\n",
    "\n",
    "a = funkcja2()        #wywołanie funkcji - zwracana krotka\n",
    "print(a)\n",
    "\n",
    "x,y,z, t = funkcja2()  #kolejne wywołanie funkcji - zwracana krotka z rozpakowaniem\n",
    "print(x,y,z,t)"
   ]
  },
  {
   "cell_type": "code",
   "execution_count": 7,
   "metadata": {},
   "outputs": [
    {
     "data": {
      "text/plain": [
       "(0, 2)"
      ]
     },
     "execution_count": 7,
     "metadata": {},
     "output_type": "execute_result"
    }
   ],
   "source": [
    "def reszta(a, b):   #definicja funkcji o nazwie reszta - dwa argumenty formalne a, b \n",
    "    q = a//b       #jeżeli a, b całkowite q również całkowite\n",
    "    r = a - q*b    #reszta z dzielenia\n",
    "    return (q,r)   #funkcja zwraca dwa argumenty wynik dzielenia i resztę (to samo robi wbudowana metoda divmod())\n",
    "\n",
    "a1 = 2\n",
    "b1 = 3\n",
    "reszta(a1, b1) #wywołanie funkcji z dwoma argumentami aktualnymi "
   ]
  },
  {
   "cell_type": "markdown",
   "metadata": {
    "deletable": false,
    "editable": false,
    "nbgrader": {
     "cell_type": "markdown",
     "checksum": "6893e7afeff48057bd74bbe891ff2341",
     "grade": false,
     "grade_id": "cell-f24c303be41509b7",
     "locked": true,
     "schema_version": 3,
     "solution": false,
     "task": false
    }
   },
   "source": [
    "### Ćwiczenie 1b\n",
    "Napisz program, który dla podanego z klawiatury promienia obliczy w funkcji pole i obwód koła. "
   ]
  },
  {
   "cell_type": "code",
   "execution_count": 12,
   "metadata": {
    "deletable": false,
    "nbgrader": {
     "cell_type": "code",
     "checksum": "acdcb19fa647dcba4e0d393463ca3a04",
     "grade": false,
     "grade_id": "cell-45635dafdd8fccff",
     "locked": false,
     "schema_version": 3,
     "solution": true,
     "task": false
    }
   },
   "outputs": [
    {
     "name": "stdout",
     "output_type": "stream",
     "text": [
      "Podaj promień: 3\n",
      "Circumference = 18.849556, area = 28.274334\n"
     ]
    }
   ],
   "source": [
    "import math\n",
    "pi = math.pi\n",
    "r = input('Podaj promień: ')\n",
    "\n",
    "# YOUR CODE HERE\n",
    "def circumference(r:int):\n",
    "    return 2*pi*r\n",
    "\n",
    "def area(r:int):\n",
    "    return pi*(r**2)\n",
    "\n",
    "r = int(r)\n",
    "\n",
    "print(\"Circumference = %f, area = %f\" % (circumference(r), area(r)))\n",
    "# raise NotImplementedError()"
   ]
  },
  {
   "cell_type": "markdown",
   "metadata": {
    "deletable": false,
    "editable": false,
    "nbgrader": {
     "cell_type": "markdown",
     "checksum": "b98fddfe0b289f92a5367b7696d5d1d6",
     "grade": false,
     "grade_id": "cell-1d734b32a7e8edb9",
     "locked": true,
     "schema_version": 3,
     "solution": false,
     "task": false
    }
   },
   "source": [
    "### Ćwiczenie 2b\n",
    "Napisz funkcję, która policzy:\n",
    "$$\n",
    "z = \\left\\{ \\begin{array}{11}\n",
    "x^{2}+y & \\textrm{dla $x^{2}+y^{2}\\leq 1$} & \\qquad (1)\\\\\n",
    "2x+y^{2} & \\textrm{dla $y \\gt x+5$} & \\qquad (2)\\\\\n",
    "\\frac{1}{2}x^{2}+y & \\textrm{dla $ x^{2}+y^{2}>1$ i $y \\leq x+5$} & \\qquad (3)\n",
    "\\end{array} \\right.\n",
    "$$\n",
    "\n",
    "oraz poda numer wzoru, wg którego wartość `z` została policzona. Wywołaj funkcję z parametrami podanymi poniżej."
   ]
  },
  {
   "cell_type": "code",
   "execution_count": 14,
   "metadata": {
    "deletable": false,
    "nbgrader": {
     "cell_type": "code",
     "checksum": "7ba80e093f26048f4aeb2bf542fa18f7",
     "grade": false,
     "grade_id": "cell-bd8d3407ceaedb77",
     "locked": false,
     "schema_version": 3,
     "solution": true,
     "task": false
    }
   },
   "outputs": [
    {
     "name": "stdout",
     "output_type": "stream",
     "text": [
      "Wzór 1\n",
      "0.59\n",
      "Wzór 2\n",
      "68\n",
      "Wzór 3\n",
      "2.5\n"
     ]
    }
   ],
   "source": [
    "import math\n",
    "# YOUR CODE HERE\n",
    "# raise NotImplementedError()\n",
    "def fun_z(x, y):\n",
    "    result = 0.0\n",
    "    if(x*x + y*y <= 1):\n",
    "        print(\"Wzór 1\")\n",
    "        result = x*x+y\n",
    "    elif(y > x+5):\n",
    "        print(\"Wzór 2\")\n",
    "        result = 2*x+y**2\n",
    "    elif(x**2+y**2 > 1 and y <=x+5):\n",
    "        print(\"Wzór 3\")\n",
    "        result = 0.5*(x**2)+y\n",
    "    return result\n",
    "    \n",
    "print(fun_z(0.3,0.5))\n",
    "print(fun_z(2,8))\n",
    "print(fun_z(-1,2))"
   ]
  },
  {
   "cell_type": "markdown",
   "metadata": {
    "deletable": false,
    "editable": false,
    "nbgrader": {
     "cell_type": "markdown",
     "checksum": "eaca70e73fecbea08a5d949c70566a40",
     "grade": false,
     "grade_id": "cell-71de7d8ee235b193",
     "locked": true,
     "schema_version": 3,
     "solution": false,
     "task": false
    }
   },
   "source": [
    "### Argumenty funkcji.\n",
    "Funkcje mogą przyjmować dowolną ilość argumentów, argumentem może być dowolny obiekt."
   ]
  },
  {
   "cell_type": "code",
   "execution_count": 15,
   "metadata": {},
   "outputs": [
    {
     "data": {
      "text/plain": [
       "3.7416573867739413"
      ]
     },
     "execution_count": 15,
     "metadata": {},
     "output_type": "execute_result"
    }
   ],
   "source": [
    "# p-norma (dla p = 2 norma euklidesowa)\n",
    "def pnorm(wektor, p):\n",
    "    suma = 0\n",
    "    for x in wektor:\n",
    "        suma+=x**p\n",
    "    norma = suma**(1.0/p)\n",
    "    return norma\n",
    "\n",
    "pnorm([1,2,3],2)"
   ]
  },
  {
   "cell_type": "markdown",
   "metadata": {
    "deletable": false,
    "editable": false,
    "nbgrader": {
     "cell_type": "markdown",
     "checksum": "730c6eaaeeb9e240cc625a87896ac60b",
     "grade": false,
     "grade_id": "cell-b65cc087700fe66b",
     "locked": true,
     "schema_version": 3,
     "solution": false,
     "task": false
    }
   },
   "source": [
    "Dla tak zdefiniowanej funkcji liczba i kolejność argumentów formalnych (definicja funkcji) i aktualnych (wywołanie) musi być identyczna."
   ]
  },
  {
   "cell_type": "code",
   "execution_count": 16,
   "metadata": {},
   "outputs": [
    {
     "ename": "TypeError",
     "evalue": "pnorm() missing 1 required positional argument: 'p'",
     "output_type": "error",
     "traceback": [
      "\u001b[0;31m---------------------------------------------------------------------------\u001b[0m",
      "\u001b[0;31mTypeError\u001b[0m                                 Traceback (most recent call last)",
      "\u001b[0;32m<ipython-input-16-e2274fc731aa>\u001b[0m in \u001b[0;36m<module>\u001b[0;34m\u001b[0m\n\u001b[0;32m----> 1\u001b[0;31m \u001b[0mpnorm\u001b[0m\u001b[0;34m(\u001b[0m\u001b[0;34m[\u001b[0m\u001b[0;36m1\u001b[0m\u001b[0;34m,\u001b[0m\u001b[0;36m2\u001b[0m\u001b[0;34m,\u001b[0m\u001b[0;36m3\u001b[0m\u001b[0;34m]\u001b[0m\u001b[0;34m)\u001b[0m\u001b[0;34m\u001b[0m\u001b[0;34m\u001b[0m\u001b[0m\n\u001b[0m",
      "\u001b[0;31mTypeError\u001b[0m: pnorm() missing 1 required positional argument: 'p'"
     ]
    }
   ],
   "source": [
    "pnorm([1,2,3])"
   ]
  },
  {
   "cell_type": "code",
   "execution_count": 17,
   "metadata": {},
   "outputs": [
    {
     "ename": "TypeError",
     "evalue": "pnorm() takes 2 positional arguments but 3 were given",
     "output_type": "error",
     "traceback": [
      "\u001b[0;31m---------------------------------------------------------------------------\u001b[0m",
      "\u001b[0;31mTypeError\u001b[0m                                 Traceback (most recent call last)",
      "\u001b[0;32m<ipython-input-17-2a3c9e3811e9>\u001b[0m in \u001b[0;36m<module>\u001b[0;34m\u001b[0m\n\u001b[0;32m----> 1\u001b[0;31m \u001b[0mpnorm\u001b[0m\u001b[0;34m(\u001b[0m\u001b[0;34m[\u001b[0m\u001b[0;36m1\u001b[0m\u001b[0;34m,\u001b[0m\u001b[0;36m2\u001b[0m\u001b[0;34m,\u001b[0m\u001b[0;36m3\u001b[0m\u001b[0;34m]\u001b[0m\u001b[0;34m,\u001b[0m \u001b[0;36m2\u001b[0m\u001b[0;34m,\u001b[0m \u001b[0;36m3\u001b[0m\u001b[0;34m)\u001b[0m\u001b[0;34m\u001b[0m\u001b[0;34m\u001b[0m\u001b[0m\n\u001b[0m",
      "\u001b[0;31mTypeError\u001b[0m: pnorm() takes 2 positional arguments but 3 were given"
     ]
    }
   ],
   "source": [
    "pnorm([1,2,3], 2, 3)"
   ]
  },
  {
   "cell_type": "markdown",
   "metadata": {
    "deletable": false,
    "editable": false,
    "nbgrader": {
     "cell_type": "markdown",
     "checksum": "ca6370b46cef9bb38e1971724eefe0b7",
     "grade": false,
     "grade_id": "cell-fd2a988b43a6a54e",
     "locked": true,
     "schema_version": 3,
     "solution": false,
     "task": false
    }
   },
   "source": [
    "Możliwe jest jednak coś takiego :) (ale tylko przy podaniu nazwy argumentu i jego wartości)."
   ]
  },
  {
   "cell_type": "code",
   "execution_count": 18,
   "metadata": {},
   "outputs": [
    {
     "data": {
      "text/plain": [
       "3.7416573867739413"
      ]
     },
     "execution_count": 18,
     "metadata": {},
     "output_type": "execute_result"
    }
   ],
   "source": [
    "pnorm(p=2, wektor=[1,2,3])"
   ]
  },
  {
   "cell_type": "markdown",
   "metadata": {
    "deletable": false,
    "editable": false,
    "nbgrader": {
     "cell_type": "markdown",
     "checksum": "9d67f89347944e7492c31c01236155fd",
     "grade": false,
     "grade_id": "cell-81b8000e819fdfef",
     "locked": true,
     "schema_version": 3,
     "solution": false,
     "task": false
    }
   },
   "source": [
    "#### Argumenty domyślne funkcji.\n",
    "\n",
    "Można definiować tzw. argumenty domyślne, których jak nie podamy w wywołaniu to przyjmą ustawioną wartość domyślną.\n",
    "\n",
    "https://docs.python.org/3/tutorial/controlflow.html#more-on-defining-functions"
   ]
  },
  {
   "cell_type": "code",
   "execution_count": 19,
   "metadata": {},
   "outputs": [
    {
     "name": "stdout",
     "output_type": "stream",
     "text": [
      "Wartość 2 normy wektora [1, 2, 3] wynosi 3.7416573867739413\n",
      "3.7416573867739413\n",
      "Wartość 3 normy wektora [1, 2, 3] wynosi 3.3019272488946263\n",
      "3.3019272488946263\n",
      "3.3019272488946263\n",
      "3.7416573867739413\n",
      "3.3019272488946263\n"
     ]
    }
   ],
   "source": [
    "# p-norma\n",
    "def pnorm(wektor, p=2, pp=True):\n",
    "    suma = 0\n",
    "    for x in wektor:\n",
    "        suma+=x**p\n",
    "    norma = suma**(1.0/p)\n",
    "    if pp:\n",
    "        print('Wartość {0} normy wektora {1} wynosi {2}' .format(p, wektor, norma))\n",
    "    return norma\n",
    "\n",
    "print(pnorm([1,2,3]))\n",
    "print(pnorm([1,2,3],3))\n",
    "print(pnorm([1,2,3],3,False))\n",
    "print(pnorm([1,2,3],pp=False))\n",
    "print(pnorm([1,2,3],p=3,pp=False))\n",
    "\n",
    "# niepoprawne wywołania\n",
    "#pnorm()                        # brak wymaganego argumentu\n",
    "#pnorm(pp=False,[1,2,3])        # argument pozycyjny za kluczowym\n",
    "#pnorm([1,2,3],wektor=[4,5,6])  # argument zduplikowany\n",
    "#pnorm([1,2,3],a=2)             # nieznany argument"
   ]
  },
  {
   "cell_type": "markdown",
   "metadata": {
    "deletable": false,
    "editable": false,
    "nbgrader": {
     "cell_type": "markdown",
     "checksum": "b9981ea2e6aef8c20d4ed1a617f2eb0e",
     "grade": false,
     "grade_id": "cell-9871def95933a2df",
     "locked": true,
     "schema_version": 3,
     "solution": false,
     "task": false
    }
   },
   "source": [
    "#### Argumenty funkcji `*args`, `**kargs`.\n",
    "\n",
    "Ponieważ funkcje mogą przyjmować bardzo wiele argumentów, aby wyszystkich nie wypisywać w definicji funkcji używa się argumentów `*args` oraz `**kargs`. Argument `*args` to krotka, do której pakowane są argumenty podawane bezpośrednio (argumenty pozycyjne). Argument `**kargs` to słownik, do którego pakowane są argumenty podawane poprzez przypisanie wartości do nazwy (argumenty hasłowe). Argumenty pozycyjne muszą być podane jako pierwsze.\n",
    "\n",
    "https://docs.python.org/3/tutorial/controlflow.html#keyword-arguments"
   ]
  },
  {
   "cell_type": "code",
   "execution_count": 20,
   "metadata": {},
   "outputs": [
    {
     "name": "stdout",
     "output_type": "stream",
     "text": [
      "()\n",
      "{'z': 3, 'a': 'hello', 'b': (5, 6)}\n",
      "------------------------------------\n",
      "(3,)\n",
      "{'a': 'hello', 'b': (5, 6)}\n"
     ]
    }
   ],
   "source": [
    "def cos(*args, **kargs):\n",
    "    print(args)\n",
    "    print(kargs)\n",
    "    \n",
    "cos(z=3, a='hello', b=(5,6))\n",
    "print('------------------------------------')\n",
    "cos(3, a='hello', b=(5,6))"
   ]
  },
  {
   "cell_type": "code",
   "execution_count": 21,
   "metadata": {},
   "outputs": [
    {
     "name": "stdout",
     "output_type": "stream",
     "text": [
      "Wartość 3 normy wektora [1, 2, 3] wynosi 3.3019272488946263\n"
     ]
    },
    {
     "data": {
      "text/plain": [
       "3.3019272488946263"
      ]
     },
     "execution_count": 21,
     "metadata": {},
     "output_type": "execute_result"
    }
   ],
   "source": [
    "def pnorm2(*args, **kargs):\n",
    "    wektor = args[0]\n",
    "    p = args[1]\n",
    "    pp = kargs['pp']\n",
    "    suma = 0\n",
    "    for x in wektor:\n",
    "        suma+=x**p\n",
    "    norma = suma**(1.0/p)\n",
    "    if pp:\n",
    "        print('Wartość {0} normy wektora {1} wynosi {2}'.format(p, wektor, norma))\n",
    "    return norma\n",
    "\n",
    "pnorm2([1,2,3],3,pp=True)"
   ]
  },
  {
   "cell_type": "markdown",
   "metadata": {
    "deletable": false,
    "editable": false,
    "nbgrader": {
     "cell_type": "markdown",
     "checksum": "3f9e1f5f52750476474635c5db738672",
     "grade": false,
     "grade_id": "cell-2fc2265859b76b8d",
     "locked": true,
     "schema_version": 3,
     "solution": false,
     "task": false
    }
   },
   "source": [
    "#### \"Rozpakowywanie\" listy argumentów.\n",
    "\n",
    "Są przypadki, że argumenty mamy już „spakowane” w postaci krotki lub listy, ale np. niektóre funkcje akceptują tylko oddzielnie podane parametry pozycyjne. W tych przypadkach najpierw krotka lub lista musi być „rozpakowana”.  Funkcja wywoływana jest wtedy z operatorem `*` aby rozpakować argumenty podawane bezpośrednio lub `**` w przypadku argumentów typu kluczowego (argumenty hasłowe).\n",
    "\n",
    "https://docs.python.org/3/tutorial/controlflow.html#unpacking-argument-lists"
   ]
  },
  {
   "cell_type": "code",
   "execution_count": 22,
   "metadata": {},
   "outputs": [
    {
     "name": "stdout",
     "output_type": "stream",
     "text": [
      "[3, 4, 5]\n",
      "3 6\n",
      "[3, 4, 5]\n"
     ]
    }
   ],
   "source": [
    "print(list(range(3,6)))          # wywołanie z oddzielnymi argumentami (argumenty pozycyjne)\n",
    "argumenty = [3, 6]\n",
    "print(*argumenty)\n",
    "print(list(range(*argumenty)))  # wywołanie z argumentami rozpakowanymi"
   ]
  },
  {
   "cell_type": "code",
   "execution_count": 23,
   "metadata": {},
   "outputs": [
    {
     "name": "stdout",
     "output_type": "stream",
     "text": [
      "({'n1': 'Multikino', 'n2': 'Świt', 'f1': 'Gladiator', 'f2': 'Piękna i bestia'},)\n",
      "{}\n",
      "------------------------------------\n",
      "()\n",
      "{'n1': 'Multikino', 'n2': 'Świt', 'f1': 'Gladiator', 'f2': 'Piękna i bestia'}\n",
      "------------------------------------\n",
      "(1, 2)\n",
      "{'n1': 'Multikino', 'n2': 'Świt', 'f1': 'Gladiator', 'f2': 'Piękna i bestia'}\n",
      "------------------------------------\n",
      "(1, 2)\n",
      "{'n1': 'Multikino', 'n2': 'Świt', 'f1': 'Gladiator', 'f2': 'Piękna i bestia', 'f3': 'Bolek i Lolek'}\n"
     ]
    }
   ],
   "source": [
    "def cos(*args, **kargs):\n",
    "    print(args)\n",
    "    print(kargs)\n",
    "\n",
    "argumenty = {'n1':'Multikino', 'n2':'Świt', 'f1':'Gladiator','f2':'Piękna i bestia'}\n",
    "\n",
    "cos(argumenty)        # wywołanie bez rozpakowania - w funkcji tylko jeden arg. pozycyjny\n",
    "print('------------------------------------')\n",
    "cos(**argumenty)      # wywołanie z argumentami rozpakowanymi - w funkcji 4 arg. hasłowe\n",
    "print('------------------------------------')\n",
    "cos(1,2,**argumenty)  # wywołanie z argumentami rozpakowanymi - w funkcji 2 arg. pozycyjne i 4 arg. hasłowe\n",
    "print('------------------------------------')\n",
    "cos(1,2,**argumenty,f3='Bolek i Lolek')  # wywołanie z argumentami rozpakowanymi - w funkcji 2 arg. pozycyjne i 5 arg. hasłowych"
   ]
  },
  {
   "cell_type": "markdown",
   "metadata": {
    "deletable": false,
    "editable": false,
    "nbgrader": {
     "cell_type": "markdown",
     "checksum": "d879a9e6389c83a34c16a7a864814753",
     "grade": false,
     "grade_id": "cell-4398e24cc078aecc",
     "locked": true,
     "schema_version": 3,
     "solution": false,
     "task": false
    }
   },
   "source": [
    "#### Parametry specjalne używane w funkcji:  `/` i `*`.\n",
    "\n",
    "Dla poprawienia czytelności/efektywności w Pythonie od wersji 3.8 wprowadzono dla funkcji dodatkowe parametry specjalne, zapisywane przy pomocy symboli `/` oraz `*`. Parametry te pozwalają na szybką orientację czy przesłane do funkcji parametry są pozycyjne czy hasłowe (kluczowe).\n",
    "\n",
    "```python\n",
    "def nazwa(poz1, poz2, /, poz_lub_kl, *, kl1, kl2):\n",
    "\t\n",
    "```    \n",
    "Symbole `/` i `*` są opcjonalne. Jeśli wystąpią mówią o tym jak należy\n",
    "potraktować poszczególne parametry – jako tylko pozycyjne, pozycyjne lub\n",
    "typu klucz-wartość lub tylko kluczowe.\n",
    "Argumenty pozycyjne znajdują się przed znakiem `/`, który używany jest w tym\n",
    "kontekście do rozdzielenia parametrów pozycyjnych od kluczowych. Parametry występujące po / mogą być pozycyjne lub kluczowe albo tylko\n",
    "kluczowe.\n",
    "\n",
    "https://docs.python.org/3/tutorial/controlflow.html#special-parameters"
   ]
  },
  {
   "cell_type": "code",
   "execution_count": 26,
   "metadata": {},
   "outputs": [
    {
     "name": "stdout",
     "output_type": "stream",
     "text": [
      "5\n"
     ]
    }
   ],
   "source": [
    "def tylko_pozycyjne_arg(arg, /):\n",
    "    print(arg)\n",
    "    \n",
    "tylko_pozycyjne_arg(5)\n",
    "#tylko_pozycyjne_arg(arg=5)  # błąd "
   ]
  },
  {
   "cell_type": "code",
   "execution_count": 29,
   "metadata": {},
   "outputs": [
    {
     "name": "stdout",
     "output_type": "stream",
     "text": [
      "5\n"
     ]
    }
   ],
   "source": [
    "def tylko_kluczowe_arg(*, arg):\n",
    "    print(arg)\n",
    "    \n",
    "tylko_kluczowe_arg(arg=5)\n",
    "#tylko_kluczowe_arg(5)      # błąd "
   ]
  },
  {
   "cell_type": "code",
   "execution_count": 32,
   "metadata": {},
   "outputs": [
    {
     "name": "stdout",
     "output_type": "stream",
     "text": [
      "1 2 3\n",
      "1 2 3\n"
     ]
    }
   ],
   "source": [
    "def mieszane_arg(poz, /, std, *, kl):\n",
    "    print(poz, std, kl)\n",
    "    \n",
    "mieszane_arg(1, std=2, kl=3)\n",
    "mieszane_arg(1, 2, kl=3)\n",
    "#mieszane_arg(1, 2, 3)      # błąd "
   ]
  },
  {
   "cell_type": "markdown",
   "metadata": {
    "deletable": false,
    "editable": false,
    "nbgrader": {
     "cell_type": "markdown",
     "checksum": "ba1b49702a3943723e135b054fd8f0c5",
     "grade": false,
     "grade_id": "cell-583d625fd6b94cf0",
     "locked": true,
     "schema_version": 3,
     "solution": false,
     "task": false
    }
   },
   "source": [
    "Jak uniknąć potencjalnej kolizji argumentu pozycyjnego i kluczowego - gdy klucz ma taką samą nazwę jak parametr pozycyjny?"
   ]
  },
  {
   "cell_type": "code",
   "execution_count": 35,
   "metadata": {},
   "outputs": [
    {
     "name": "stdout",
     "output_type": "stream",
     "text": [
      "3\n",
      "{'nazwa': 'hello'}\n"
     ]
    }
   ],
   "source": [
    "def cos(nazwa, **kargs):     # możliwy konflikt nazw\n",
    "    print(nazwa)\n",
    "    print(kargs)\n",
    "    \n",
    "#cos(3, nazwa='hello')       # błąd TypeError: cos() got multiple values for argument 'nazwa'\n",
    "\n",
    "def cos1(nazwa, /, **kargs): # brak konfliku nazw\n",
    "    print(nazwa)\n",
    "    print(kargs)\n",
    "\n",
    "cos1(3, nazwa='hello')"
   ]
  },
  {
   "cell_type": "markdown",
   "metadata": {
    "deletable": false,
    "editable": false,
    "nbgrader": {
     "cell_type": "markdown",
     "checksum": "6776dd90d8d1ae575d5316a32a949a0f",
     "grade": false,
     "grade_id": "cell-68c6c17130225e89",
     "locked": true,
     "schema_version": 3,
     "solution": false,
     "task": false
    }
   },
   "source": [
    "#### Funkcje jako argumenty innych funkcji.\n",
    "\n",
    "Funkcje mogą być argumentami innych funkcji."
   ]
  },
  {
   "cell_type": "code",
   "execution_count": 36,
   "metadata": {},
   "outputs": [],
   "source": [
    "def suma(a, b):\n",
    "    return a+b\n",
    "\n",
    "def roznica(a, b):\n",
    "    return a-b\n",
    "\n",
    "def wykonaj(x, y, f):\n",
    "    return f(x, y)"
   ]
  },
  {
   "cell_type": "code",
   "execution_count": 37,
   "metadata": {},
   "outputs": [
    {
     "name": "stdout",
     "output_type": "stream",
     "text": [
      "suma = 5\n",
      "różnica = -1\n"
     ]
    }
   ],
   "source": [
    "print('suma =', wykonaj(2, 3, suma))\n",
    "print('różnica =', wykonaj(2, 3, roznica))"
   ]
  },
  {
   "cell_type": "markdown",
   "metadata": {
    "deletable": false,
    "editable": false,
    "nbgrader": {
     "cell_type": "markdown",
     "checksum": "2d6135900aa61b83235001692cdbefbd",
     "grade": false,
     "grade_id": "cell-753663a1e28c7e74",
     "locked": true,
     "schema_version": 3,
     "solution": false,
     "task": false
    }
   },
   "source": [
    "### Ćwiczenie 3b\n",
    "Napisz funkcję obliczającą wartość $y=x^{2}+f(x)$, tak by funkcja $f(x)$ mogła być dowolną funkcją. Policz wartości $y$ dla $f(x)=\\sin(x)$ i $f(x)=\\cos(x)$."
   ]
  },
  {
   "cell_type": "code",
   "execution_count": 41,
   "metadata": {
    "deletable": false,
    "nbgrader": {
     "cell_type": "code",
     "checksum": "8481b5ab9c555f7c754b8d1cbf7b881e",
     "grade": false,
     "grade_id": "cell-c33ee87d2407e2f7",
     "locked": false,
     "schema_version": 3,
     "solution": true,
     "task": false
    }
   },
   "outputs": [
    {
     "name": "stdout",
     "output_type": "stream",
     "text": [
      "Podaj x: 3\n",
      "Wartość dla sin = 9.141120\n",
      "Wartość dla cos = 8.010008\n"
     ]
    }
   ],
   "source": [
    "import math\n",
    "x = input('Podaj x: ')\n",
    "# YOUR CODE HERE\n",
    "\n",
    "def f_main(f_tri, x:float):\n",
    "    return x**2+f_tri(x)\n",
    "\n",
    "x = float(x)\n",
    "print(\"Wartość dla sin = %f\" % f_main(math.sin, x))\n",
    "print(\"Wartość dla cos = %f\" % f_main(math.cos, x))\n",
    "#raise NotImplementedError()"
   ]
  },
  {
   "cell_type": "markdown",
   "metadata": {
    "deletable": false,
    "editable": false,
    "nbgrader": {
     "cell_type": "markdown",
     "checksum": "f16e01bcbfcf1a7e724397a08f82de9c",
     "grade": false,
     "grade_id": "cell-b69b7d0dbb8b4a08",
     "locked": true,
     "schema_version": 3,
     "solution": false,
     "task": false
    }
   },
   "source": [
    "#### Funkcje rekurencyjne.\n",
    "Funkcja może odwoływać się do samej siebie. Python nakłada ograniczenie na liczbę rekurencyjnych wywołań funkcji. Limit zwraca funkcja `sys.getrecursionlimit()`."
   ]
  },
  {
   "cell_type": "code",
   "execution_count": 42,
   "metadata": {},
   "outputs": [],
   "source": [
    "def silnia(n):\n",
    "    if n<2:\n",
    "        return 1\n",
    "    return n*silnia(n-1)"
   ]
  },
  {
   "cell_type": "code",
   "execution_count": 43,
   "metadata": {},
   "outputs": [
    {
     "data": {
      "text/plain": [
       "24"
      ]
     },
     "execution_count": 43,
     "metadata": {},
     "output_type": "execute_result"
    }
   ],
   "source": [
    "silnia(4)"
   ]
  },
  {
   "cell_type": "code",
   "execution_count": 44,
   "metadata": {},
   "outputs": [
    {
     "data": {
      "text/plain": [
       "3000"
      ]
     },
     "execution_count": 44,
     "metadata": {},
     "output_type": "execute_result"
    }
   ],
   "source": [
    "import sys\n",
    "sys.getrecursionlimit()"
   ]
  },
  {
   "cell_type": "markdown",
   "metadata": {
    "deletable": false,
    "editable": false,
    "nbgrader": {
     "cell_type": "markdown",
     "checksum": "762eb8b98418b587e2d18a2c746e96f7",
     "grade": false,
     "grade_id": "cell-0559acc7295d341c",
     "locked": true,
     "schema_version": 3,
     "solution": false,
     "task": false
    }
   },
   "source": [
    "### Ćwiczenie 4b\n",
    "Oblicz wartość symbolu Newtona $\\large{n \\choose k}$ dla zadanych liczb całkowitych $n, k$ gdy ($k \\leq n$). Obliczanie silni z danej liczby całkowitej umieść w funkcji."
   ]
  },
  {
   "cell_type": "code",
   "execution_count": 53,
   "metadata": {
    "deletable": false,
    "nbgrader": {
     "cell_type": "code",
     "checksum": "e6a83959ecf40fe3b99fbfba50493fda",
     "grade": false,
     "grade_id": "cell-83001c3d13031dd7",
     "locked": false,
     "schema_version": 3,
     "solution": true,
     "task": false
    }
   },
   "outputs": [
    {
     "name": "stdout",
     "output_type": "stream",
     "text": [
      "Podaj n: 10\n",
      "Podaj k: 1\n",
      "Wartość symblu Newtona 10\n"
     ]
    }
   ],
   "source": [
    "n = input('Podaj n: ')\n",
    "k = input('Podaj k: ')\n",
    "\n",
    "# YOUR CODE HERE\n",
    "def sil(n):\n",
    "    if n<2:\n",
    "        return 1\n",
    "    return n*silnia(n-1)\n",
    "def s_N(n:int, k:int):\n",
    "    return sil(n)/(sil(k)*sil((n-k)))\n",
    "\n",
    "n = int(n)\n",
    "k = int(k)\n",
    "\n",
    "if(k <= n):\n",
    "    print(\"Wartość symblu Newtona %d\" % s_N(n, k))\n",
    "else:\n",
    "    print(\"Wprowadziłeś niepprawne dane\")\n",
    "#raise NotImplementedError()"
   ]
  },
  {
   "cell_type": "markdown",
   "metadata": {
    "deletable": false,
    "editable": false,
    "nbgrader": {
     "cell_type": "markdown",
     "checksum": "f5bb934567208058b9be3a990781b357",
     "grade": false,
     "grade_id": "cell-1c8edbc4a5a48d37",
     "locked": true,
     "schema_version": 3,
     "solution": false,
     "task": false
    }
   },
   "source": [
    "#### Dokumentacja funkcji (klasy).\n",
    "\n",
    "- Na początku definicji funkcji możemy umieścić wiersz dokumentacyjny.\n",
    "- Wiersz dokumentacyjny może być stosowany również w klasach. \n",
    "- Łancuch dokumentacyjny jest przypisywany jako wartość atrybutu `__doc__` . \n",
    "- Jeżeli nie zostanie podany łańcuch dokumentacyjny to wartością atrybutu `__doc__` jest `None`.\n",
    "\n",
    "https://docs.python.org/3/tutorial/controlflow.html#documentation-strings"
   ]
  },
  {
   "cell_type": "code",
   "execution_count": 54,
   "metadata": {},
   "outputs": [],
   "source": [
    "def funkcja():\n",
    "    \"\"\"Nasza przykładowa funkcja.\"\"\"\n",
    "    return 1,2"
   ]
  },
  {
   "cell_type": "code",
   "execution_count": 55,
   "metadata": {},
   "outputs": [
    {
     "name": "stdout",
     "output_type": "stream",
     "text": [
      "(1, 2)\n"
     ]
    },
    {
     "data": {
      "text/plain": [
       "'Nasza przykładowa funkcja.'"
      ]
     },
     "execution_count": 55,
     "metadata": {},
     "output_type": "execute_result"
    }
   ],
   "source": [
    "print(funkcja())\n",
    "funkcja.__doc__"
   ]
  },
  {
   "cell_type": "markdown",
   "metadata": {
    "deletable": false,
    "editable": false,
    "nbgrader": {
     "cell_type": "markdown",
     "checksum": "de6d39990f8d946a7613126a6f7b3db5",
     "grade": false,
     "grade_id": "cell-04b0a5daf5b4651d",
     "locked": true,
     "schema_version": 3,
     "solution": false,
     "task": false
    }
   },
   "source": [
    "#### Przypisy do funkcji.\n",
    "\n",
    "- Przechowywane w atrybucie funkcji `__annotations__` jako słownik, nie mają wpływu na żadną z jej części.\n",
    "- Pomagają w identyfikacji typów argumentów przekazywanych do funkcji oraz typu jaki funkcja ma zwracać\n",
    "- Adnotacje dotyczące parametrów tworzone są poprzez dodanie dwukropka `:` po nazwie parametrów a następnie wskazaniu jego typu.\n",
    "- Adnotacje dotyczące typu zwracanego przez funkcje zdefiniowane są przy pomocy literału `->` po którym następuje typ. Literał ten znajduje się pomiędzy listą argumentów funkcji a dwukropkiem kończącym sekcję `def` funkcji.\n",
    "\n",
    "https://docs.python.org/3/tutorial/controlflow.html#function-annotations"
   ]
  },
  {
   "cell_type": "code",
   "execution_count": 56,
   "metadata": {},
   "outputs": [
    {
     "name": "stdout",
     "output_type": "stream",
     "text": [
      "Adnotacje: {'imie': <class 'str'>, 'nazwisko': <class 'str'>, 'wiek': <class 'int'>, 'return': <class 'str'>}\n",
      "Argumenty: Jan Nowak 20\n",
      "Jan Nowak wiek: 20\n"
     ]
    }
   ],
   "source": [
    "def funkcja_z_adnotacjami(imie: str, nazwisko: str = 'Nowak', wiek: int = 0) -> str:\n",
    "    print(\"Adnotacje:\", funkcja_z_adnotacjami.__annotations__)\n",
    "    print('Argumenty:', imie, nazwisko, wiek)\n",
    "    return imie + ' ' + nazwisko + ' wiek: ' + str(wiek)\n",
    "\n",
    "print(funkcja_z_adnotacjami('Jan',wiek=20))"
   ]
  },
  {
   "cell_type": "markdown",
   "metadata": {
    "deletable": false,
    "editable": false,
    "nbgrader": {
     "cell_type": "markdown",
     "checksum": "264b539d644cfc6fb736b77d060bce46",
     "grade": false,
     "grade_id": "cell-11849fea266216c8",
     "locked": true,
     "schema_version": 3,
     "solution": false,
     "task": false
    }
   },
   "source": [
    "### Operator `lambda`.\n",
    "#### Składnia.\n",
    "Struktura składni ma postać:\n",
    "\n",
    "```python\n",
    "lambda argumenty : wyrażenie\t\n",
    "```    \n",
    "\n",
    "Tworzy funkcję anonimową w postaci wyrażenia. Zapis w jednej linii. Argumenty oddzielone przecinkami. Funkcja nie posiada nazwy, ale może być wywołana za pomocą zmiennej, do której zostanie przypisana. Funkcja tak zdefiniowana zwraca obliczoną wartość `wyrażenie`. \n",
    "\n",
    "Więcej informacji na temat operatora `lambda` przy listach, słownikach, wyrażeniach listowych.\n",
    "\n",
    "https://docs.python.org/3/tutorial/controlflow.html#lambda-expressions"
   ]
  },
  {
   "cell_type": "code",
   "execution_count": 57,
   "metadata": {},
   "outputs": [
    {
     "name": "stdout",
     "output_type": "stream",
     "text": [
      "5\n",
      "-1\n"
     ]
    }
   ],
   "source": [
    "a = lambda x, y : x + y   #definicja funkcji - zwraca obiekt funkcji, któremu można przypisać nazwę \n",
    "\n",
    "print(a(2, 3))\n",
    "print(a(7, -8))"
   ]
  },
  {
   "cell_type": "code",
   "execution_count": 58,
   "metadata": {},
   "outputs": [
    {
     "name": "stdout",
     "output_type": "stream",
     "text": [
      "100\n",
      "195\n"
     ]
    }
   ],
   "source": [
    "def dodaj_wartosc(liczba):\n",
    "    return lambda val: val + liczba\n",
    "\n",
    "f = dodaj_wartosc(100)\n",
    "print(f(0))\n",
    "print(f(95))"
   ]
  },
  {
   "cell_type": "markdown",
   "metadata": {
    "deletable": false,
    "editable": false,
    "nbgrader": {
     "cell_type": "markdown",
     "checksum": "4d4872369346f141dde74c6f4305795e",
     "grade": false,
     "grade_id": "cell-3eb18f2975ae08f0",
     "locked": true,
     "schema_version": 3,
     "solution": false,
     "task": false
    }
   },
   "source": [
    "### Ćwiczenie 5b\n",
    "#### Tablicowanie funkcji\n",
    "Stablicować daną funkcję $y=f(x)$ w zadanym przedziale $(a,b)$ z krokiem $dx$ ($dx<<a-b$). Funkcja dana jest przepisem:\n",
    "\n",
    "$$\n",
    "z = \\left\\{ \\begin{array}{11}\n",
    "-2x+ \\frac{1}{5} & \\textrm{dla $x \\lt -2$} & \\qquad (1)\\\\\n",
    "x^{2}+3 & \\textrm{dla $-2 \\le x \\le 4$} & \\qquad (2)\\\\\n",
    "\\frac{1}{2}x^+1 & \\textrm{dla $ x \\gt 4$} & \\qquad (3)\n",
    "\\end{array} \\right.\n",
    "$$"
   ]
  },
  {
   "cell_type": "code",
   "execution_count": 63,
   "metadata": {
    "deletable": false,
    "nbgrader": {
     "cell_type": "code",
     "checksum": "dd6d819d5316a89c3a4c6686cc5f690a",
     "grade": false,
     "grade_id": "cell-f2bd4429aabec7b2",
     "locked": false,
     "schema_version": 3,
     "solution": true,
     "task": false
    }
   },
   "outputs": [
    {
     "name": "stdout",
     "output_type": "stream",
     "text": [
      "Podaj a: -5\n",
      "Podaj b: 5\n",
      "Podaj dx: 0.1\n",
      "Stablicowana funkcja dla a = -5.000000, b=5.000000, dx=0.100000\n",
      "{-5.0: 10.2, -4.9: 10.0, -4.800000000000001: 9.8, -4.700000000000001: 9.600000000000001, -4.600000000000001: 9.400000000000002, -4.500000000000002: 9.200000000000003, -4.400000000000002: 9.000000000000004, -4.3000000000000025: 8.800000000000004, -4.200000000000003: 8.600000000000005, -4.100000000000003: 8.400000000000006, -4.0000000000000036: 8.200000000000006, -3.9000000000000035: 8.000000000000007, -3.8000000000000034: 7.800000000000007, -3.7000000000000033: 7.600000000000007, -3.600000000000003: 7.400000000000007, -3.500000000000003: 7.200000000000006, -3.400000000000003: 7.000000000000006, -3.300000000000003: 6.800000000000006, -3.200000000000003: 6.600000000000006, -3.1000000000000028: 6.400000000000006, -3.0000000000000027: 6.2000000000000055, -2.9000000000000026: 6.000000000000005, -2.8000000000000025: 5.800000000000005, -2.7000000000000024: 5.600000000000005, -2.6000000000000023: 5.400000000000005, -2.500000000000002: 5.200000000000005, -2.400000000000002: 5.000000000000004, -2.300000000000002: 4.800000000000004, -2.200000000000002: 4.600000000000004, -2.100000000000002: 4.400000000000004, -2.0000000000000018: 4.200000000000004, -1.9000000000000017: 6.6100000000000065, -1.8000000000000016: 6.2400000000000055, -1.7000000000000015: 5.890000000000005, -1.6000000000000014: 5.560000000000004, -1.5000000000000013: 5.2500000000000036, -1.4000000000000012: 4.9600000000000035, -1.3000000000000012: 4.690000000000003, -1.200000000000001: 4.440000000000003, -1.100000000000001: 4.210000000000003, -1.0000000000000009: 4.000000000000002, -0.9000000000000009: 3.8100000000000014, -0.8000000000000009: 3.6400000000000015, -0.700000000000001: 3.490000000000001, -0.600000000000001: 3.360000000000001, -0.500000000000001: 3.250000000000001, -0.400000000000001: 3.160000000000001, -0.30000000000000104: 3.0900000000000007, -0.20000000000000104: 3.0400000000000005, -0.10000000000000103: 3.0100000000000002, -1.0269562977782698e-15: 3.0, 0.09999999999999898: 3.01, 0.19999999999999898: 3.0399999999999996, 0.299999999999999: 3.0899999999999994, 0.399999999999999: 3.1599999999999993, 0.499999999999999: 3.249999999999999, 0.599999999999999: 3.3599999999999985, 0.699999999999999: 3.4899999999999984, 0.7999999999999989: 3.6399999999999983, 0.8999999999999989: 3.809999999999998, 0.9999999999999989: 3.999999999999998, 1.099999999999999: 4.209999999999997, 1.199999999999999: 4.439999999999998, 1.2999999999999992: 4.689999999999998, 1.3999999999999992: 4.959999999999998, 1.4999999999999993: 5.249999999999998, 1.5999999999999994: 5.559999999999999, 1.6999999999999995: 5.889999999999999, 1.7999999999999996: 6.239999999999998, 1.8999999999999997: 6.609999999999999, 1.9999999999999998: 6.999999999999999, 2.0999999999999996: 7.409999999999998, 2.1999999999999997: 7.839999999999999, 2.3: 8.29, 2.4: 8.76, 2.5: 9.25, 2.6: 9.760000000000002, 2.7: 10.290000000000001, 2.8000000000000003: 10.840000000000002, 2.9000000000000004: 11.410000000000002, 3.0000000000000004: 12.000000000000004, 3.1000000000000005: 12.610000000000003, 3.2000000000000006: 13.240000000000004, 3.3000000000000007: 13.890000000000004, 3.400000000000001: 14.560000000000006, 3.500000000000001: 15.250000000000007, 3.600000000000001: 15.960000000000006, 3.700000000000001: 16.69000000000001, 3.800000000000001: 17.44000000000001, 3.9000000000000012: 18.210000000000008, 4.000000000000001: 3.0000000000000004, 4.1000000000000005: 3.0500000000000003, 4.2: 3.1, 4.3: 3.15, 4.3999999999999995: 3.1999999999999997, 4.499999999999999: 3.2499999999999996, 4.599999999999999: 3.2999999999999994, 4.699999999999998: 3.349999999999999, 4.799999999999998: 3.399999999999999, 4.899999999999998: 3.449999999999999, 4.999999999999997: 3.4999999999999987}\n"
     ]
    }
   ],
   "source": [
    "import math\n",
    "a = input('Podaj a: ')\n",
    "b = input('Podaj b: ')\n",
    "dx = input('Podaj dx: ')\n",
    "\n",
    "# YOUR CODE HERE\n",
    "\n",
    "def fun_z(x):\n",
    "    result = 0.0\n",
    "    if(x < -2):\n",
    "        result = -2*x+0.2\n",
    "    elif(-2 <= x <= 4):\n",
    "        result = x**2+3\n",
    "    elif(x > 4):\n",
    "        result = 0.5*x+1\n",
    "    return result\n",
    "\n",
    "def to_table(a: float, b:float, dx:float):\n",
    "    table = {}\n",
    "    while a <= b:\n",
    "        table[a] = fun_z(a)\n",
    "        a+=dx\n",
    "    return table\n",
    "\n",
    "a = float(a)\n",
    "b = float(b)\n",
    "dx = float(dx)\n",
    "table = to_table(a, b, dx)\n",
    "print(\"Stablicowana funkcja dla a = %f, b=%f, dx=%f\" % (a, b, dx))\n",
    "print(table)\n",
    "\n",
    "\n",
    "#raise NotImplementedError()"
   ]
  },
  {
   "cell_type": "markdown",
   "metadata": {
    "deletable": false,
    "editable": false,
    "nbgrader": {
     "cell_type": "markdown",
     "checksum": "d32b1efddaaa9085ba8fbeb888f313d0",
     "grade": false,
     "grade_id": "cell-38ddbfdc1c1676ba",
     "locked": true,
     "schema_version": 3,
     "solution": false,
     "task": false
    }
   },
   "source": [
    "## Zadanie 1b\n",
    "\n",
    "Napisz funkcję sprawdzającą czy liczba przesłana jako argument jest liczbą pierwszą (wykorzystaj else do pętli for). Napisz funkcję zwracającą podaną liczbę Mersenne'a $M(p)=2^{p}-1$. Sprawdź które liczby Mersenne'a dla $ p=1, 2, \\dots, 31 $ są pierwsze. Oznacz typ zwracany przez funkcje (przy pomocy `-> typ`). \n",
    "https://pl.wikipedia.org/wiki/Liczby_Mersenne%E2%80%99a"
   ]
  },
  {
   "cell_type": "code",
   "execution_count": 278,
   "metadata": {
    "deletable": false,
    "nbgrader": {
     "cell_type": "code",
     "checksum": "ec2bebd662909f8049a00cbae8599d07",
     "grade": true,
     "grade_id": "cell-12e04e1f44734817",
     "locked": false,
     "points": 2,
     "schema_version": 3,
     "solution": true,
     "task": false
    }
   },
   "outputs": [
    {
     "name": "stdout",
     "output_type": "stream",
     "text": [
      "5 jest liczbą pierwszą.\n"
     ]
    }
   ],
   "source": [
    "# YOUR CODE HERE\n",
    "def prime_number(liczba):\n",
    "    dzielnik = 2\n",
    "    for dzielnik in range(2, liczba):\n",
    "        if((liczba % dzielnik) == 0):\n",
    "            print(\"%d nie jest liczbą pierwszą.\" % liczba)\n",
    "            break\n",
    "        dzielnik+=1\n",
    "    else:\n",
    "        print(\"%d jest liczbą pierwszą.\" % liczba)\n",
    "\n",
    "prime_number(5)\n",
    "#raise NotImplementedError()"
   ]
  },
  {
   "cell_type": "markdown",
   "metadata": {
    "deletable": false,
    "editable": false,
    "nbgrader": {
     "cell_type": "markdown",
     "checksum": "96abbca3ea800b357c7a12418d6ccf8d",
     "grade": false,
     "grade_id": "cell-4dd3fb76d2ccbd5b",
     "locked": true,
     "schema_version": 3,
     "solution": false,
     "task": false
    }
   },
   "source": [
    "## Zadanie 2b\n",
    "\n",
    "Napisz funkcję przyjmującą dwa argumenty: tekst do wypisania oraz szerokość linii (argument o domyślnej wartości 80), wypisującą przesłany tekst wycentrowany w linii.\n",
    "\n",
    "Przykładowe wywołania:\n",
    "```python\n",
    "printCenter(\"Zażółć gęślą jaźń\")\n",
    "printCenter(\"Zażółć gęślą jaźń\", 70)\n",
    "```  "
   ]
  },
  {
   "cell_type": "code",
   "execution_count": 233,
   "metadata": {
    "deletable": false,
    "nbgrader": {
     "cell_type": "code",
     "checksum": "c46e0b04ec52832cb5270a791e940a18",
     "grade": true,
     "grade_id": "cell-8458dbc14d6d21be",
     "locked": false,
     "points": 1,
     "schema_version": 3,
     "solution": true,
     "task": false
    }
   },
   "outputs": [
    {
     "name": "stdout",
     "output_type": "stream",
     "text": [
      "                               Zażółć gęślą jaźń                               \n",
      "                Zażółć gęślą jaźń                \n",
      "                          Zażółć gęślą jaźń                          \n"
     ]
    }
   ],
   "source": [
    "# YOUR CODE HERE\n",
    "#raise NotImplementedError()\n",
    "def printCenter(txt:str, width = 80):\n",
    "    length_txt = len(txt)\n",
    "    if(length_txt >= width):\n",
    "        print(txt)\n",
    "        return\n",
    "    rest = width - length_txt\n",
    "    print(\" \" * (rest//2) + txt + \" \" * (rest//2))\n",
    "    \n",
    "\n",
    "printCenter(\"Zażółć gęślą jaźń\")\n",
    "printCenter(\"Zażółć gęślą jaźń\", 50)\n",
    "printCenter(\"Zażółć gęślą jaźń\", 70)"
   ]
  },
  {
   "cell_type": "markdown",
   "metadata": {
    "deletable": false,
    "editable": false,
    "nbgrader": {
     "cell_type": "markdown",
     "checksum": "18b9178d553ad4315928cba7fa12c4a2",
     "grade": false,
     "grade_id": "cell-54494087360abbfa",
     "locked": true,
     "schema_version": 3,
     "solution": false,
     "task": false
    }
   },
   "source": [
    "## Zadanie 3b\n",
    "\n",
    "Napisz funkcję przyjmującą cztery argumenty: `x` początkowe (domyślnie -1), `x` końcowe\n",
    "(domyślnie 1), liczbę przedziałów (domyślnie 10) oraz funkcję `fx`. Funkcja powinna wypisywać\n",
    "wartości `x` oraz funkcji przesłanej jako argument `fx` dla każdego `x` z podanego zakresu/przedziału tablicowania/ . Zaprezentuj działanie funkcji wykorzystując operator `lambda` wyrażenia (prześlij `fx` jako lambdę).\n",
    "\n",
    "Przykład działania:\n",
    "```\n",
    "-1.000000000000  -0.841470984808\n",
    "-0.777777777778  -0.701697876147\n",
    "-0.555555555556  -0.527415385772\n",
    "-0.333333333333  -0.327194696796\n",
    "-0.111111111111  -0.110882628510\n",
    " 0.111111111111   0.110882628510\n",
    " 0.333333333333   0.327194696796\n",
    " 0.555555555556   0.527415385772\n",
    " 0.777777777778   0.701697876147\n",
    " 1.000000000000   0.841470984808```"
   ]
  },
  {
   "cell_type": "code",
   "execution_count": 268,
   "metadata": {
    "deletable": false,
    "nbgrader": {
     "cell_type": "code",
     "checksum": "72290cdb719301b9803bc555a6e5b9bc",
     "grade": true,
     "grade_id": "cell-ae2a68ecb18ca1a6",
     "locked": false,
     "points": 2,
     "schema_version": 3,
     "solution": true,
     "task": false
    }
   },
   "outputs": [
    {
     "name": "stdout",
     "output_type": "stream",
     "text": [
      "-1.000000000000 +1.000000000000\n",
      "-0.800000000000 +0.640000000000\n",
      "-0.600000000000 +0.360000000000\n",
      "-0.400000000000 +0.160000000000\n",
      "-0.200000000000 +0.040000000000\n",
      "-0.000000000000 +0.000000000000\n",
      "+0.200000000000 +0.040000000000\n",
      "+0.400000000000 +0.160000000000\n",
      "+0.600000000000 +0.360000000000\n",
      "+0.800000000000 +0.640000000000\n"
     ]
    }
   ],
   "source": [
    "# YOUR CODE HERE\n",
    "#raise NotImplementedError()\n",
    "def printFx(fx, x_p = -1, x_k = 1, dx = 10):\n",
    "    step = (x_k - x_p)/dx\n",
    "    while x_p < x_k:\n",
    "        print(\"%+.12f %+.12f\" % (x_p, fx(x_p)))\n",
    "        x_p+=step\n",
    "function = lambda x : x**2\n",
    "printFx(function)"
   ]
  },
  {
   "cell_type": "markdown",
   "metadata": {
    "deletable": false,
    "editable": false,
    "nbgrader": {
     "cell_type": "markdown",
     "checksum": "3baf199ffe72fe56ca296ee6c7eb228d",
     "grade": false,
     "grade_id": "cell-3ff43ed29131f84d",
     "locked": true,
     "schema_version": 3,
     "solution": false,
     "task": false
    }
   },
   "source": [
    "## Zadanie 4b\n",
    "\n",
    "Napisz cztery funkcje:\n",
    "1. `k4` zwracająca pseudolosową liczbę całkowitą od 1 do 4 włącznie,\n",
    "2. `k8` zwracająca pseudolosową liczbę całkowitą od 1 do 8 włącznie,\n",
    "3. `k10` zwracająca pseudolosową liczbę całkowitą od 1 do 10 włącznie,\n",
    "4. `k20` zwracającą pseudolosową liczbę całkowitą od 1 do 20 włącznie.\n",
    "\n",
    "Napisz funkcję `getDice` przyjmującą jako argument zmienną tekstową, która:\n",
    "1. Dla tekstu \"k4\" zwraca funkcję `k4`,\n",
    "2. Dla tekstu \"k8\" zwraca funkcję `k8`,\n",
    "3. Dla tekstu \"k10\" zwraca funkcję `k10`,\n",
    "4. Dla tekstu \"k20\" zwraca funkcję `k20`.\n",
    "\n",
    "Przykładowe wywołanie funkcji losującej:\n",
    "```python \n",
    "import random\n",
    "def k20():\n",
    "    return random.randint(1, 20)\n",
    "```\n",
    "Napisz funkcję `rollDice` przyjmującą jako argument tekst w formacie \"XkY\", gdzie X oraz Y są\n",
    "liczbami naturalnymi. Funkcja ta powinna wyciągnąć z tekstu wartości X oraz Y (patrz poniżej: dzielenie tekstu) i wywołać X razy funkcję zwróconą przez getDice z argumentem \"kY\". Funkcja rollDice powinna zwracać sumę wylosowanych wartości.\n",
    "\n",
    "Przykładowe wywołania:\n",
    "```python \n",
    "rollDice(\"1k4\")\n",
    "rollDice(\"2k10\")\n",
    "```\n",
    "\n",
    "Co się stanie jeśli wywołamy funkcję `rollDice` z argumentami \"10k4\", \"100k4\", \"1k7\", \"0k4\"? \n",
    "Jak zmodyfikować funkcję, aby działało wywołanie \"1e5k4\" (1e5 losowań k4)?\n",
    "\n",
    "Patrz też:\n",
    "\n",
    "https://docs.python.org/3/library/random.html\n",
    "\n",
    "Dzielenie tekstu:\n",
    "```python \n",
    "tekst=\"2k8\"\n",
    "liczby=tekst.split(\"k\")\n",
    "print(liczby[0], liczby[1])\n",
    "\n",
    "# a, b=tekst.split(\"k\")\n",
    "# print(a, b)\n",
    "```"
   ]
  },
  {
   "cell_type": "code",
   "execution_count": 219,
   "metadata": {
    "deletable": false,
    "nbgrader": {
     "cell_type": "code",
     "checksum": "33bf9ea08dd4345e5cd24a5cf74b6472",
     "grade": true,
     "grade_id": "cell-6e4d969b2c7f5590",
     "locked": false,
     "points": 3,
     "schema_version": 3,
     "solution": true,
     "task": false
    }
   },
   "outputs": [
    {
     "data": {
      "text/plain": [
       "250451"
      ]
     },
     "execution_count": 219,
     "metadata": {},
     "output_type": "execute_result"
    }
   ],
   "source": [
    "import random\n",
    "# YOUR CODE HERE\n",
    "# raise NotImplementedError()\n",
    "\n",
    "def k4():\n",
    "    return random.randint(1, 4)\n",
    "\n",
    "def k8():\n",
    "    return random.randint(1, 8)\n",
    "\n",
    "def k10():\n",
    "    return random.randint(1, 10)\n",
    "\n",
    "def k20():\n",
    "    return random.randint(1, 20)\n",
    "\n",
    "def getDice(txt:str):\n",
    "    switcher = {\n",
    "        \"k4\": k4,\n",
    "        \"k8\": k8,\n",
    "        \"k10\": k10,\n",
    "        \"k20\": k20\n",
    "    }\n",
    "    if(txt in switcher):\n",
    "        return switcher[txt]\n",
    "    else:\n",
    "        raise ValueError(\"Nie ma takiej funkcji\")\n",
    "\n",
    "def rollDice(txt:str):\n",
    "    sum = 0\n",
    "    index = 0\n",
    "    arguments = txt.split(\"k\")\n",
    "    if float(arguments[0]) <= 0:\n",
    "        raise ValueError(\"Parametr X powinien być liczbą naturalną!\")\n",
    "    while index < float(arguments[0]):\n",
    "        function = getDice(\"k\" + arguments[1])\n",
    "        sum += function()\n",
    "        index+=1\n",
    "    return sum\n",
    " \n",
    "#rollDice(\"1k4\")\n",
    "#rollDice(\"2k10\")\n",
    "#rollDice(\"10k4\")\n",
    "#rollDice(\"100k4\")\n",
    "#rollDice(\"1k7\")\n",
    "#rollDice(\"0k4\")\n",
    "rollDice(\"1e5k4\")"
   ]
  },
  {
   "cell_type": "markdown",
   "metadata": {
    "deletable": false,
    "editable": false,
    "nbgrader": {
     "cell_type": "markdown",
     "checksum": "353853cceb42c7642289949c34b65ea0",
     "grade": false,
     "grade_id": "cell-6dde92cc037f3790",
     "locked": true,
     "schema_version": 3,
     "solution": false,
     "task": false
    }
   },
   "source": [
    "## Zadanie 5b\n",
    "\n",
    "Napisz funkcję wypisującą napisy końcowe (filmu, serialu, tego programu). Funkcja ta powinna przyjmować dowolną liczbę argumentów i wypisywać każdy kolejny argument co sekundę, wycentrowany – najpierw argumenty zwykłe, potem kluczowe. Wykorzystaj funkcję z zadania 2b.\n",
    "\n",
    "Przykład wywołania:\n",
    "\n",
    "                          Cudowniejszy program pokazowy                          \n",
    "                         Powrót Złego Markiza Cul-de-Sac                         \n",
    "                                Scenariusz: Autor                                \n",
    "                               Scenografia: Autor                               \n",
    "                              Podziękowania: Python\n",
    "                                                           \n",
    "\n",
    "Do pobrania długości tekstu można użyć funkcji `len()`. Do czekania wykorzystaj funkcję `time.sleep()` – aby jej użyć należy zaimportować moduł time: \n",
    "```python\n",
    "import time\n",
    "```\n",
    "Dodaj dokumentację do funkcji – opisz jakie argumenty przyjmuje i co robi."
   ]
  },
  {
   "cell_type": "code",
   "execution_count": 249,
   "metadata": {
    "deletable": false,
    "nbgrader": {
     "cell_type": "code",
     "checksum": "dc9eb08dd24b02a5a3724d265f266fae",
     "grade": true,
     "grade_id": "cell-57874b5f91750100",
     "locked": false,
     "points": 2,
     "schema_version": 3,
     "solution": true,
     "task": false
    }
   },
   "outputs": [
    {
     "name": "stdout",
     "output_type": "stream",
     "text": [
      "                         Cudowniejszy program pokazowy                         \n",
      "                        Powrót Złego Markiza Cul-de-Sac                        \n",
      "                               Scenariusz: Autor                               \n",
      "                               Scenografia: Autor                               \n",
      "                             Podziękowania: Python                             \n",
      "Funkcja przyjmuję dowolną ilość parametrów zwykłych *args\n",
      "oraz dowlną ilosć parametrów klucowych **kargs\n",
      "Jako output funkcja drukuję wycentrowane napisy, przekazywane poprzez ars, a potem kargs\n",
      "    \n"
     ]
    }
   ],
   "source": [
    "import time\n",
    "# YOUR CODE HERE\n",
    "#raise NotImplementedError()\n",
    "def printCenter(txt:str, width = 80):\n",
    "    length_txt = len(txt)\n",
    "    if(length_txt >= width):\n",
    "        print(txt)\n",
    "        return\n",
    "    rest = width - length_txt\n",
    "    print(\" \" * (rest//2) + txt + \" \" * (rest//2))\n",
    "    \n",
    "def credits(*args, **kargs):\n",
    "    \"\"\"Funkcja przyjmuję dowolną ilość parametrów zwykłych *args\n",
    "oraz dowolną ilosć parametrów klucowych **kargs\n",
    "Jako output funkcja drukuję wycentrowane napisy, przekazywane poprzez args, a potem kargs\n",
    "    \"\"\"\n",
    "    for argument in args:\n",
    "        printCenter(argument)\n",
    "        time.sleep(1)\n",
    "    for (key, value) in kargs.items():\n",
    "        printCenter(key+\": \"+value)\n",
    "        time.sleep(1)\n",
    "\n",
    "credits(\"Cudowniejszy program pokazowy\",\n",
    "        \"Powrót Złego Markiza Cul-de-Sac\",\n",
    "        Scenariusz=\"Autor\",\n",
    "        Scenografia=\"Autor\",\n",
    "        Podziękowania=\"Python\")\n",
    "print(credits.__doc__)"
   ]
  },
  {
   "cell_type": "code",
   "execution_count": null,
   "metadata": {
    "collapsed": true
   },
   "outputs": [],
   "source": []
  },
  {
   "cell_type": "markdown",
   "metadata": {
    "deletable": false,
    "editable": false,
    "nbgrader": {
     "cell_type": "markdown",
     "checksum": "b89497679e5fdb6f08b51808ee3dbe46",
     "grade": false,
     "grade_id": "cell-e22be4ce9286c4d9",
     "locked": true,
     "schema_version": 3,
     "solution": false
    }
   },
   "source": [
    "<div style=\"text-align: right\">&copy; Katedra Informatyki, Politechnika Krakowska </div>"
   ]
  }
 ],
 "metadata": {
  "kernelspec": {
   "display_name": "Python 3",
   "language": "python",
   "name": "python3"
  },
  "language_info": {
   "codemirror_mode": {
    "name": "ipython",
    "version": 3
   },
   "file_extension": ".py",
   "mimetype": "text/x-python",
   "name": "python",
   "nbconvert_exporter": "python",
   "pygments_lexer": "ipython3",
   "version": "3.8.8"
  }
 },
 "nbformat": 4,
 "nbformat_minor": 2
}
